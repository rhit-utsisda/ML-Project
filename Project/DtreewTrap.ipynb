{
 "cells": [
  {
   "cell_type": "code",
   "execution_count": 2,
   "id": "61263553-a1cf-48d0-add1-a5af093965a2",
   "metadata": {},
   "outputs": [],
   "source": [
    "import pandas as pd\n",
    "import numpy as np\n",
    "from sklearn.tree import DecisionTreeClassifier, export_text\n",
    "from sklearn.model_selection import cross_validate, train_test_split\n",
    "from sklearn.tree import DecisionTreeRegressor, export_graphviz\n",
    "from sklearn.model_selection import GridSearchCV\n",
    "from sklearn.ensemble import RandomForestRegressor, GradientBoostingRegressor\n",
    "import graphviz"
   ]
  },
  {
   "cell_type": "code",
   "execution_count": 3,
   "id": "606f9ff9-9af6-46c8-9977-5bcc09573686",
   "metadata": {
    "tags": []
   },
   "outputs": [
    {
     "data": {
      "text/html": [
       "<div>\n",
       "<style scoped>\n",
       "    .dataframe tbody tr th:only-of-type {\n",
       "        vertical-align: middle;\n",
       "    }\n",
       "\n",
       "    .dataframe tbody tr th {\n",
       "        vertical-align: top;\n",
       "    }\n",
       "\n",
       "    .dataframe thead th {\n",
       "        text-align: right;\n",
       "    }\n",
       "</style>\n",
       "<table border=\"1\" class=\"dataframe\">\n",
       "  <thead>\n",
       "    <tr style=\"text-align: right;\">\n",
       "      <th></th>\n",
       "      <th>Unnamed: 0</th>\n",
       "      <th>YEAR</th>\n",
       "      <th>TEAM NO</th>\n",
       "      <th>TEAM ID</th>\n",
       "      <th>TEAM</th>\n",
       "      <th>CONF</th>\n",
       "      <th>DUNKS FG%</th>\n",
       "      <th>DUNKS SHARE</th>\n",
       "      <th>DUNKS FG%D</th>\n",
       "      <th>DUNKS D SHARE</th>\n",
       "      <th>...</th>\n",
       "      <th>POWER</th>\n",
       "      <th>PATH</th>\n",
       "      <th>DRAW</th>\n",
       "      <th>WINS</th>\n",
       "      <th>POOL VALUE</th>\n",
       "      <th>POOL S-RANK</th>\n",
       "      <th>NCAA S-RANK</th>\n",
       "      <th>VAL Z-SCORE</th>\n",
       "      <th>POWER-PATH</th>\n",
       "      <th>Trapezoid</th>\n",
       "    </tr>\n",
       "  </thead>\n",
       "  <tbody>\n",
       "    <tr>\n",
       "      <th>318</th>\n",
       "      <td>318</td>\n",
       "      <td>2019</td>\n",
       "      <td>741</td>\n",
       "      <td>241</td>\n",
       "      <td>Wofford</td>\n",
       "      <td>SC</td>\n",
       "      <td>92.6</td>\n",
       "      <td>6.3</td>\n",
       "      <td>85.7</td>\n",
       "      <td>4.0</td>\n",
       "      <td>...</td>\n",
       "      <td>71.8</td>\n",
       "      <td>70.7</td>\n",
       "      <td>0.46</td>\n",
       "      <td>1</td>\n",
       "      <td>14.5</td>\n",
       "      <td>23</td>\n",
       "      <td>28</td>\n",
       "      <td>0.227</td>\n",
       "      <td>1.1</td>\n",
       "      <td>0</td>\n",
       "    </tr>\n",
       "    <tr>\n",
       "      <th>319</th>\n",
       "      <td>319</td>\n",
       "      <td>2019</td>\n",
       "      <td>740</td>\n",
       "      <td>245</td>\n",
       "      <td>Yale</td>\n",
       "      <td>Ivy</td>\n",
       "      <td>94.3</td>\n",
       "      <td>9.3</td>\n",
       "      <td>82.6</td>\n",
       "      <td>4.1</td>\n",
       "      <td>...</td>\n",
       "      <td>58.4</td>\n",
       "      <td>75.7</td>\n",
       "      <td>0.66</td>\n",
       "      <td>0</td>\n",
       "      <td>3.6</td>\n",
       "      <td>48</td>\n",
       "      <td>53</td>\n",
       "      <td>0.613</td>\n",
       "      <td>-17.3</td>\n",
       "      <td>0</td>\n",
       "    </tr>\n",
       "  </tbody>\n",
       "</table>\n",
       "<p>2 rows × 50 columns</p>\n",
       "</div>"
      ],
      "text/plain": [
       "     Unnamed: 0  YEAR  TEAM NO  TEAM ID     TEAM CONF  DUNKS FG%  DUNKS SHARE  \\\n",
       "318         318  2019      741      241  Wofford   SC       92.6          6.3   \n",
       "319         319  2019      740      245     Yale  Ivy       94.3          9.3   \n",
       "\n",
       "     DUNKS FG%D  DUNKS D SHARE  ...  POWER  PATH  DRAW  WINS  POOL VALUE  \\\n",
       "318        85.7            4.0  ...   71.8  70.7  0.46     1        14.5   \n",
       "319        82.6            4.1  ...   58.4  75.7  0.66     0         3.6   \n",
       "\n",
       "     POOL S-RANK  NCAA S-RANK  VAL Z-SCORE  POWER-PATH  Trapezoid  \n",
       "318           23           28        0.227         1.1          0  \n",
       "319           48           53        0.613       -17.3          0  \n",
       "\n",
       "[2 rows x 50 columns]"
      ]
     },
     "execution_count": 3,
     "metadata": {},
     "output_type": "execute_result"
    }
   ],
   "source": [
    "df = pd.read_csv('ShootingSplits_HeatCheckTourwTrap.csv')\n",
    "df.tail(2)"
   ]
  },
  {
   "cell_type": "code",
   "execution_count": 4,
   "id": "34c09eb1-9abd-4b79-a4ef-9d8e371f3c51",
   "metadata": {},
   "outputs": [
    {
     "name": "stdout",
     "output_type": "stream",
     "text": [
      "(256, 48)\n"
     ]
    },
    {
     "data": {
      "text/html": [
       "<div>\n",
       "<style scoped>\n",
       "    .dataframe tbody tr th:only-of-type {\n",
       "        vertical-align: middle;\n",
       "    }\n",
       "\n",
       "    .dataframe tbody tr th {\n",
       "        vertical-align: top;\n",
       "    }\n",
       "\n",
       "    .dataframe thead th {\n",
       "        text-align: right;\n",
       "    }\n",
       "</style>\n",
       "<table border=\"1\" class=\"dataframe\">\n",
       "  <thead>\n",
       "    <tr style=\"text-align: right;\">\n",
       "      <th></th>\n",
       "      <th>Unnamed: 0</th>\n",
       "      <th>YEAR</th>\n",
       "      <th>TEAM NO</th>\n",
       "      <th>TEAM ID</th>\n",
       "      <th>TEAM</th>\n",
       "      <th>CONF</th>\n",
       "      <th>DUNKS FG%</th>\n",
       "      <th>DUNKS SHARE</th>\n",
       "      <th>DUNKS FG%D</th>\n",
       "      <th>DUNKS D SHARE</th>\n",
       "      <th>...</th>\n",
       "      <th>SEED</th>\n",
       "      <th>ROUND</th>\n",
       "      <th>POWER</th>\n",
       "      <th>PATH</th>\n",
       "      <th>WINS</th>\n",
       "      <th>POOL VALUE</th>\n",
       "      <th>POOL S-RANK</th>\n",
       "      <th>NCAA S-RANK</th>\n",
       "      <th>POWER-PATH</th>\n",
       "      <th>Trapezoid</th>\n",
       "    </tr>\n",
       "  </thead>\n",
       "  <tbody>\n",
       "    <tr>\n",
       "      <th>64</th>\n",
       "      <td>64</td>\n",
       "      <td>2023</td>\n",
       "      <td>1011</td>\n",
       "      <td>3</td>\n",
       "      <td>Alabama</td>\n",
       "      <td>SEC</td>\n",
       "      <td>88.7</td>\n",
       "      <td>13.0</td>\n",
       "      <td>85.2</td>\n",
       "      <td>5.3</td>\n",
       "      <td>...</td>\n",
       "      <td>1</td>\n",
       "      <td>16</td>\n",
       "      <td>85.2</td>\n",
       "      <td>63.8</td>\n",
       "      <td>2</td>\n",
       "      <td>74.7</td>\n",
       "      <td>4</td>\n",
       "      <td>1</td>\n",
       "      <td>21.4</td>\n",
       "      <td>0</td>\n",
       "    </tr>\n",
       "    <tr>\n",
       "      <th>65</th>\n",
       "      <td>65</td>\n",
       "      <td>2023</td>\n",
       "      <td>1010</td>\n",
       "      <td>8</td>\n",
       "      <td>Arizona</td>\n",
       "      <td>P12</td>\n",
       "      <td>90.9</td>\n",
       "      <td>9.4</td>\n",
       "      <td>90.9</td>\n",
       "      <td>5.7</td>\n",
       "      <td>...</td>\n",
       "      <td>2</td>\n",
       "      <td>64</td>\n",
       "      <td>80.9</td>\n",
       "      <td>65.3</td>\n",
       "      <td>0</td>\n",
       "      <td>57.5</td>\n",
       "      <td>7</td>\n",
       "      <td>7</td>\n",
       "      <td>15.6</td>\n",
       "      <td>0</td>\n",
       "    </tr>\n",
       "  </tbody>\n",
       "</table>\n",
       "<p>2 rows × 48 columns</p>\n",
       "</div>"
      ],
      "text/plain": [
       "    Unnamed: 0  YEAR  TEAM NO  TEAM ID     TEAM CONF  DUNKS FG%  DUNKS SHARE  \\\n",
       "64          64  2023     1011        3  Alabama  SEC       88.7         13.0   \n",
       "65          65  2023     1010        8  Arizona  P12       90.9          9.4   \n",
       "\n",
       "    DUNKS FG%D  DUNKS D SHARE  ...  SEED  ROUND  POWER  PATH  WINS  \\\n",
       "64        85.2            5.3  ...     1     16   85.2  63.8     2   \n",
       "65        90.9            5.7  ...     2     64   80.9  65.3     0   \n",
       "\n",
       "    POOL VALUE  POOL S-RANK  NCAA S-RANK  POWER-PATH  Trapezoid  \n",
       "64        74.7            4            1        21.4          0  \n",
       "65        57.5            7            7        15.6          0  \n",
       "\n",
       "[2 rows x 48 columns]"
      ]
     },
     "execution_count": 4,
     "metadata": {},
     "output_type": "execute_result"
    }
   ],
   "source": [
    "df = df.dropna(axis=1)\n",
    "df_train = df[df['YEAR'] != 2024]\n",
    "df_test = df[df['YEAR'] == 2024]\n",
    "print(df_train.shape)\n",
    "\n",
    "c = df_train[\"Trapezoid\"]\n",
    "ctest = df_test[\"Trapezoid\"]\n",
    "df_train.head(2)"
   ]
  },
  {
   "cell_type": "code",
   "execution_count": 5,
   "id": "33d0a623-142c-4bf4-9f09-94c7f9ae43d1",
   "metadata": {},
   "outputs": [
    {
     "data": {
      "text/plain": [
       "0    0\n",
       "1    4\n",
       "2    2\n",
       "3    0\n",
       "4    1\n",
       "Name: WINS, dtype: int64"
      ]
     },
     "execution_count": 5,
     "metadata": {},
     "output_type": "execute_result"
    }
   ],
   "source": [
    "X_train = df_train.drop(['Unnamed: 0','YEAR','TEAM NO','TEAM ID','TEAM','CONF','WINS','ROUND'],axis=1)\n",
    "X_test = df_test.drop(['Unnamed: 0','YEAR','TEAM NO','TEAM ID','TEAM','CONF','WINS','ROUND'],axis=1)\n",
    "y_train = df_train.WINS\n",
    "y_test = df_test.WINS\n",
    "y_test.head(5)"
   ]
  },
  {
   "cell_type": "code",
   "execution_count": 6,
   "id": "ee8d10c2-c874-490f-80e0-4044ad224b5f",
   "metadata": {},
   "outputs": [],
   "source": [
    "X_train = (X_train - X_train.mean())/X_train.std()\n",
    "X_test = (X_test - X_test.mean())/X_test.std()"
   ]
  },
  {
   "cell_type": "code",
   "execution_count": 7,
   "id": "28a7ed0b-25f4-4844-8a4c-5ca38995082f",
   "metadata": {},
   "outputs": [
    {
     "data": {
      "text/html": [
       "<style>#sk-container-id-1 {color: black;background-color: white;}#sk-container-id-1 pre{padding: 0;}#sk-container-id-1 div.sk-toggleable {background-color: white;}#sk-container-id-1 label.sk-toggleable__label {cursor: pointer;display: block;width: 100%;margin-bottom: 0;padding: 0.3em;box-sizing: border-box;text-align: center;}#sk-container-id-1 label.sk-toggleable__label-arrow:before {content: \"▸\";float: left;margin-right: 0.25em;color: #696969;}#sk-container-id-1 label.sk-toggleable__label-arrow:hover:before {color: black;}#sk-container-id-1 div.sk-estimator:hover label.sk-toggleable__label-arrow:before {color: black;}#sk-container-id-1 div.sk-toggleable__content {max-height: 0;max-width: 0;overflow: hidden;text-align: left;background-color: #f0f8ff;}#sk-container-id-1 div.sk-toggleable__content pre {margin: 0.2em;color: black;border-radius: 0.25em;background-color: #f0f8ff;}#sk-container-id-1 input.sk-toggleable__control:checked~div.sk-toggleable__content {max-height: 200px;max-width: 100%;overflow: auto;}#sk-container-id-1 input.sk-toggleable__control:checked~label.sk-toggleable__label-arrow:before {content: \"▾\";}#sk-container-id-1 div.sk-estimator input.sk-toggleable__control:checked~label.sk-toggleable__label {background-color: #d4ebff;}#sk-container-id-1 div.sk-label input.sk-toggleable__control:checked~label.sk-toggleable__label {background-color: #d4ebff;}#sk-container-id-1 input.sk-hidden--visually {border: 0;clip: rect(1px 1px 1px 1px);clip: rect(1px, 1px, 1px, 1px);height: 1px;margin: -1px;overflow: hidden;padding: 0;position: absolute;width: 1px;}#sk-container-id-1 div.sk-estimator {font-family: monospace;background-color: #f0f8ff;border: 1px dotted black;border-radius: 0.25em;box-sizing: border-box;margin-bottom: 0.5em;}#sk-container-id-1 div.sk-estimator:hover {background-color: #d4ebff;}#sk-container-id-1 div.sk-parallel-item::after {content: \"\";width: 100%;border-bottom: 1px solid gray;flex-grow: 1;}#sk-container-id-1 div.sk-label:hover label.sk-toggleable__label {background-color: #d4ebff;}#sk-container-id-1 div.sk-serial::before {content: \"\";position: absolute;border-left: 1px solid gray;box-sizing: border-box;top: 0;bottom: 0;left: 50%;z-index: 0;}#sk-container-id-1 div.sk-serial {display: flex;flex-direction: column;align-items: center;background-color: white;padding-right: 0.2em;padding-left: 0.2em;position: relative;}#sk-container-id-1 div.sk-item {position: relative;z-index: 1;}#sk-container-id-1 div.sk-parallel {display: flex;align-items: stretch;justify-content: center;background-color: white;position: relative;}#sk-container-id-1 div.sk-item::before, #sk-container-id-1 div.sk-parallel-item::before {content: \"\";position: absolute;border-left: 1px solid gray;box-sizing: border-box;top: 0;bottom: 0;left: 50%;z-index: -1;}#sk-container-id-1 div.sk-parallel-item {display: flex;flex-direction: column;z-index: 1;position: relative;background-color: white;}#sk-container-id-1 div.sk-parallel-item:first-child::after {align-self: flex-end;width: 50%;}#sk-container-id-1 div.sk-parallel-item:last-child::after {align-self: flex-start;width: 50%;}#sk-container-id-1 div.sk-parallel-item:only-child::after {width: 0;}#sk-container-id-1 div.sk-dashed-wrapped {border: 1px dashed gray;margin: 0 0.4em 0.5em 0.4em;box-sizing: border-box;padding-bottom: 0.4em;background-color: white;}#sk-container-id-1 div.sk-label label {font-family: monospace;font-weight: bold;display: inline-block;line-height: 1.2em;}#sk-container-id-1 div.sk-label-container {text-align: center;}#sk-container-id-1 div.sk-container {/* jupyter's `normalize.less` sets `[hidden] { display: none; }` but bootstrap.min.css set `[hidden] { display: none !important; }` so we also need the `!important` here to be able to override the default hidden behavior on the sphinx rendered scikit-learn.org. See: https://github.com/scikit-learn/scikit-learn/issues/21755 */display: inline-block !important;position: relative;}#sk-container-id-1 div.sk-text-repr-fallback {display: none;}</style><div id=\"sk-container-id-1\" class=\"sk-top-container\"><div class=\"sk-text-repr-fallback\"><pre>DecisionTreeClassifier(max_depth=2)</pre><b>In a Jupyter environment, please rerun this cell to show the HTML representation or trust the notebook. <br />On GitHub, the HTML representation is unable to render, please try loading this page with nbviewer.org.</b></div><div class=\"sk-container\" hidden><div class=\"sk-item\"><div class=\"sk-estimator sk-toggleable\"><input class=\"sk-toggleable__control sk-hidden--visually\" id=\"sk-estimator-id-1\" type=\"checkbox\" checked><label for=\"sk-estimator-id-1\" class=\"sk-toggleable__label sk-toggleable__label-arrow\">DecisionTreeClassifier</label><div class=\"sk-toggleable__content\"><pre>DecisionTreeClassifier(max_depth=2)</pre></div></div></div></div></div>"
      ],
      "text/plain": [
       "DecisionTreeClassifier(max_depth=2)"
      ]
     },
     "execution_count": 7,
     "metadata": {},
     "output_type": "execute_result"
    }
   ],
   "source": [
    "dtree = DecisionTreeClassifier(max_depth=2)\n",
    "dtree.fit(X_train,y_train)"
   ]
  },
  {
   "cell_type": "code",
   "execution_count": 8,
   "id": "4ce07e2d-5a68-4e88-b9d9-d0c279a8affb",
   "metadata": {},
   "outputs": [
    {
     "data": {
      "text/plain": [
       "0.5703125"
      ]
     },
     "execution_count": 8,
     "metadata": {},
     "output_type": "execute_result"
    }
   ],
   "source": [
    "dtree.score(X_train,y_train)"
   ]
  },
  {
   "cell_type": "code",
   "execution_count": 9,
   "id": "d4b8ff76-71d8-4138-a624-734ec2216937",
   "metadata": {},
   "outputs": [
    {
     "name": "stdout",
     "output_type": "stream",
     "text": [
      "|------ POOL VALUE <= 0.1\n",
      "|      |------ PATH <= 0.6\n",
      "|      |      |------ class: 0\n",
      "|      |------ PATH >  0.6\n",
      "|      |      |------ class: 0\n",
      "|------ POOL VALUE >  0.1\n",
      "|      |------ THREES D SHARE <= 0.3\n",
      "|      |      |------ class: 1\n",
      "|      |------ THREES D SHARE >  0.3\n",
      "|      |      |------ class: 2\n",
      "\n"
     ]
    }
   ],
   "source": [
    "dtree_string = export_text(dtree,feature_names = list(X_train.columns),decimals = 1, spacing = 6)\n",
    "print(dtree_string)"
   ]
  },
  {
   "cell_type": "code",
   "execution_count": 10,
   "id": "8d22ff0b-9959-4f0d-ab72-ff1e9785e746",
   "metadata": {},
   "outputs": [
    {
     "name": "stdout",
     "output_type": "stream",
     "text": [
      "validation accuracy rate 0.503921568627451\n"
     ]
    },
    {
     "name": "stderr",
     "output_type": "stream",
     "text": [
      "C:\\Users\\hobbsji\\AppData\\Local\\anaconda3\\Lib\\site-packages\\sklearn\\model_selection\\_split.py:700: UserWarning: The least populated class in y has only 4 members, which is less than n_splits=5.\n",
      "  warnings.warn(\n"
     ]
    }
   ],
   "source": [
    "cv_results = cross_validate(dtree,X_train,y_train)\n",
    "acc_valid = cv_results['test_score'].mean()\n",
    "print('validation accuracy rate',acc_valid)"
   ]
  },
  {
   "cell_type": "code",
   "execution_count": 11,
   "id": "fcde1439-dd4c-4d55-b301-0f84c79c9f49",
   "metadata": {},
   "outputs": [
    {
     "data": {
      "text/plain": [
       "0.53125"
      ]
     },
     "execution_count": 11,
     "metadata": {},
     "output_type": "execute_result"
    }
   ],
   "source": [
    "dtree.score(X_test,y_test)"
   ]
  },
  {
   "cell_type": "code",
   "execution_count": 12,
   "id": "de7b4ed1-c23b-45de-b65e-ffbd447935e3",
   "metadata": {},
   "outputs": [
    {
     "name": "stdout",
     "output_type": "stream",
     "text": [
      "\n",
      "best alpha = {'max_depth': 2}   valid R2 = 0.193\n"
     ]
    },
    {
     "data": {
      "text/plain": [
       "<Axes: xlabel='depth'>"
      ]
     },
     "execution_count": 12,
     "metadata": {},
     "output_type": "execute_result"
    },
    {
     "data": {
      "image/png": "[encoded data removed]",
      "text/plain": [
       "<Figure size 640x480 with 1 Axes>"
      ]
     },
     "metadata": {},
     "output_type": "display_data"
    }
   ],
   "source": [
    "grid = {'max_depth':np.arange(1,25)}\n",
    "\n",
    "dtree = DecisionTreeRegressor()\n",
    "dtreeCV = GridSearchCV(dtree,param_grid=grid,return_train_score=True)\n",
    "dtreeCV.fit(X_train,y_train)\n",
    "\n",
    "print()\n",
    "print('best alpha =',dtreeCV.best_params_, '  valid R2 =',dtreeCV.best_score_.round(3))\n",
    "\n",
    "results = pd.DataFrame()\n",
    "results['depth']    = grid['max_depth']\n",
    "results['train R2'] = dtreeCV.cv_results_['mean_train_score']\n",
    "results['valid R2'] = dtreeCV.cv_results_['mean_test_score']\n",
    "ax1 = results.plot.line(x='depth',y='train R2')\n",
    "results.plot.line(x='depth',y='valid R2',ax=ax1)"
   ]
  },
  {
   "cell_type": "markdown",
   "id": "f430e028-e502-476c-8488-787e784be91f",
   "metadata": {
    "tags": []
   },
   "source": [
    "grid = {'n_estimators':[10,100,200],'max_depth':np.arange(1,30)}\n",
    "rf = RandomForestRegressor(n_jobs=-1)\n",
    "rfCV = GridSearchCV(rf,param_grid=grid,n_jobs=-1)\n",
    "rfCV.fit(X_train,y_train)\n",
    "print('best parameter',rfCV.best_params_)\n",
    "print('validation R2',rfCV.best_score_.round(2))"
   ]
  },
  {
   "cell_type": "markdown",
   "id": "a97a0f6c-6f07-4baa-9c59-d3cde59464f0",
   "metadata": {
    "tags": []
   },
   "source": [
    "rf_opt = rfCV.best_estimator_\n",
    "R2_train = rf_opt.score(X_train,y_train)\n",
    "R2_test  = rf_opt.score(X_test,y_test)\n",
    "print('Forest -> train R2 =',R2_train.round(3),'  test R2 =',R2_test.round(3))\n"
   ]
  },
  {
   "cell_type": "markdown",
   "id": "5174d7c3-18b0-4cfb-b7bd-0992bb79f177",
   "metadata": {},
   "source": [
    "## For wins"
   ]
  },
  {
   "cell_type": "code",
   "execution_count": 16,
   "id": "9a86cca4-9dcf-45c8-83ca-09f67c0bb8f2",
   "metadata": {
    "tags": []
   },
   "outputs": [
    {
     "data": {
      "text/html": [
       "<div>\n",
       "<style scoped>\n",
       "    .dataframe tbody tr th:only-of-type {\n",
       "        vertical-align: middle;\n",
       "    }\n",
       "\n",
       "    .dataframe tbody tr th {\n",
       "        vertical-align: top;\n",
       "    }\n",
       "\n",
       "    .dataframe thead th {\n",
       "        text-align: right;\n",
       "    }\n",
       "</style>\n",
       "<table border=\"1\" class=\"dataframe\">\n",
       "  <thead>\n",
       "    <tr style=\"text-align: right;\">\n",
       "      <th></th>\n",
       "      <th>YEAR</th>\n",
       "      <th>CONF</th>\n",
       "      <th>CONF ID</th>\n",
       "      <th>QUAD NO</th>\n",
       "      <th>QUAD ID</th>\n",
       "      <th>TEAM NO</th>\n",
       "      <th>TEAM ID</th>\n",
       "      <th>TEAM</th>\n",
       "      <th>SEED</th>\n",
       "      <th>ROUND</th>\n",
       "      <th>...</th>\n",
       "      <th>BADJT RANK</th>\n",
       "      <th>AVG HGT RANK</th>\n",
       "      <th>EFF HGT RANK</th>\n",
       "      <th>EXP RANK</th>\n",
       "      <th>TALENT RANK</th>\n",
       "      <th>FT% RANK</th>\n",
       "      <th>OP FT% RANK</th>\n",
       "      <th>PPPO RANK</th>\n",
       "      <th>PPPD RANK</th>\n",
       "      <th>ELITE SOS RANK</th>\n",
       "    </tr>\n",
       "  </thead>\n",
       "  <tbody>\n",
       "    <tr>\n",
       "      <th>0</th>\n",
       "      <td>2024</td>\n",
       "      <td>MAC</td>\n",
       "      <td>17</td>\n",
       "      <td>61</td>\n",
       "      <td>1</td>\n",
       "      <td>1079</td>\n",
       "      <td>2</td>\n",
       "      <td>Akron</td>\n",
       "      <td>14</td>\n",
       "      <td>64</td>\n",
       "      <td>...</td>\n",
       "      <td>276</td>\n",
       "      <td>238</td>\n",
       "      <td>199</td>\n",
       "      <td>19</td>\n",
       "      <td>176</td>\n",
       "      <td>164</td>\n",
       "      <td>47</td>\n",
       "      <td>122</td>\n",
       "      <td>51</td>\n",
       "      <td>249</td>\n",
       "    </tr>\n",
       "    <tr>\n",
       "      <th>1</th>\n",
       "      <td>2024</td>\n",
       "      <td>SEC</td>\n",
       "      <td>28</td>\n",
       "      <td>63</td>\n",
       "      <td>3</td>\n",
       "      <td>1078</td>\n",
       "      <td>3</td>\n",
       "      <td>Alabama</td>\n",
       "      <td>4</td>\n",
       "      <td>4</td>\n",
       "      <td>...</td>\n",
       "      <td>13</td>\n",
       "      <td>33</td>\n",
       "      <td>8</td>\n",
       "      <td>156</td>\n",
       "      <td>106</td>\n",
       "      <td>10</td>\n",
       "      <td>314</td>\n",
       "      <td>2</td>\n",
       "      <td>263</td>\n",
       "      <td>7</td>\n",
       "    </tr>\n",
       "    <tr>\n",
       "      <th>2</th>\n",
       "      <td>2024</td>\n",
       "      <td>P12</td>\n",
       "      <td>24</td>\n",
       "      <td>63</td>\n",
       "      <td>3</td>\n",
       "      <td>1077</td>\n",
       "      <td>8</td>\n",
       "      <td>Arizona</td>\n",
       "      <td>2</td>\n",
       "      <td>16</td>\n",
       "      <td>...</td>\n",
       "      <td>16</td>\n",
       "      <td>50</td>\n",
       "      <td>37</td>\n",
       "      <td>196</td>\n",
       "      <td>7</td>\n",
       "      <td>195</td>\n",
       "      <td>134</td>\n",
       "      <td>8</td>\n",
       "      <td>14</td>\n",
       "      <td>47</td>\n",
       "    </tr>\n",
       "    <tr>\n",
       "      <th>3</th>\n",
       "      <td>2024</td>\n",
       "      <td>SEC</td>\n",
       "      <td>28</td>\n",
       "      <td>64</td>\n",
       "      <td>4</td>\n",
       "      <td>1076</td>\n",
       "      <td>12</td>\n",
       "      <td>Auburn</td>\n",
       "      <td>4</td>\n",
       "      <td>64</td>\n",
       "      <td>...</td>\n",
       "      <td>58</td>\n",
       "      <td>86</td>\n",
       "      <td>76</td>\n",
       "      <td>127</td>\n",
       "      <td>69</td>\n",
       "      <td>59</td>\n",
       "      <td>284</td>\n",
       "      <td>12</td>\n",
       "      <td>8</td>\n",
       "      <td>69</td>\n",
       "    </tr>\n",
       "    <tr>\n",
       "      <th>4</th>\n",
       "      <td>2024</td>\n",
       "      <td>B12</td>\n",
       "      <td>7</td>\n",
       "      <td>63</td>\n",
       "      <td>3</td>\n",
       "      <td>1075</td>\n",
       "      <td>14</td>\n",
       "      <td>Baylor</td>\n",
       "      <td>3</td>\n",
       "      <td>32</td>\n",
       "      <td>...</td>\n",
       "      <td>274</td>\n",
       "      <td>31</td>\n",
       "      <td>22</td>\n",
       "      <td>304</td>\n",
       "      <td>34</td>\n",
       "      <td>97</td>\n",
       "      <td>254</td>\n",
       "      <td>15</td>\n",
       "      <td>155</td>\n",
       "      <td>1</td>\n",
       "    </tr>\n",
       "    <tr>\n",
       "      <th>...</th>\n",
       "      <td>...</td>\n",
       "      <td>...</td>\n",
       "      <td>...</td>\n",
       "      <td>...</td>\n",
       "      <td>...</td>\n",
       "      <td>...</td>\n",
       "      <td>...</td>\n",
       "      <td>...</td>\n",
       "      <td>...</td>\n",
       "      <td>...</td>\n",
       "      <td>...</td>\n",
       "      <td>...</td>\n",
       "      <td>...</td>\n",
       "      <td>...</td>\n",
       "      <td>...</td>\n",
       "      <td>...</td>\n",
       "      <td>...</td>\n",
       "      <td>...</td>\n",
       "      <td>...</td>\n",
       "      <td>...</td>\n",
       "      <td>...</td>\n",
       "    </tr>\n",
       "    <tr>\n",
       "      <th>1074</th>\n",
       "      <td>2008</td>\n",
       "      <td>BE</td>\n",
       "      <td>8</td>\n",
       "      <td>1</td>\n",
       "      <td>1</td>\n",
       "      <td>5</td>\n",
       "      <td>235</td>\n",
       "      <td>West Virginia</td>\n",
       "      <td>7</td>\n",
       "      <td>16</td>\n",
       "      <td>...</td>\n",
       "      <td>225</td>\n",
       "      <td>18</td>\n",
       "      <td>115</td>\n",
       "      <td>181</td>\n",
       "      <td>61</td>\n",
       "      <td>209</td>\n",
       "      <td>16</td>\n",
       "      <td>22</td>\n",
       "      <td>32</td>\n",
       "      <td>49</td>\n",
       "    </tr>\n",
       "    <tr>\n",
       "      <th>1075</th>\n",
       "      <td>2008</td>\n",
       "      <td>SB</td>\n",
       "      <td>26</td>\n",
       "      <td>1</td>\n",
       "      <td>1</td>\n",
       "      <td>4</td>\n",
       "      <td>236</td>\n",
       "      <td>Western Kentucky</td>\n",
       "      <td>12</td>\n",
       "      <td>16</td>\n",
       "      <td>...</td>\n",
       "      <td>111</td>\n",
       "      <td>160</td>\n",
       "      <td>179</td>\n",
       "      <td>55</td>\n",
       "      <td>131</td>\n",
       "      <td>127</td>\n",
       "      <td>214</td>\n",
       "      <td>27</td>\n",
       "      <td>28</td>\n",
       "      <td>203</td>\n",
       "    </tr>\n",
       "    <tr>\n",
       "      <th>1076</th>\n",
       "      <td>2008</td>\n",
       "      <td>BSth</td>\n",
       "      <td>10</td>\n",
       "      <td>4</td>\n",
       "      <td>4</td>\n",
       "      <td>3</td>\n",
       "      <td>239</td>\n",
       "      <td>Winthrop</td>\n",
       "      <td>13</td>\n",
       "      <td>64</td>\n",
       "      <td>...</td>\n",
       "      <td>301</td>\n",
       "      <td>231</td>\n",
       "      <td>206</td>\n",
       "      <td>89</td>\n",
       "      <td>236</td>\n",
       "      <td>339</td>\n",
       "      <td>190</td>\n",
       "      <td>170</td>\n",
       "      <td>12</td>\n",
       "      <td>179</td>\n",
       "    </tr>\n",
       "    <tr>\n",
       "      <th>1077</th>\n",
       "      <td>2008</td>\n",
       "      <td>B10</td>\n",
       "      <td>6</td>\n",
       "      <td>3</td>\n",
       "      <td>3</td>\n",
       "      <td>2</td>\n",
       "      <td>240</td>\n",
       "      <td>Wisconsin</td>\n",
       "      <td>3</td>\n",
       "      <td>16</td>\n",
       "      <td>...</td>\n",
       "      <td>301</td>\n",
       "      <td>51</td>\n",
       "      <td>35</td>\n",
       "      <td>98</td>\n",
       "      <td>12</td>\n",
       "      <td>118</td>\n",
       "      <td>117</td>\n",
       "      <td>60</td>\n",
       "      <td>2</td>\n",
       "      <td>57</td>\n",
       "    </tr>\n",
       "    <tr>\n",
       "      <th>1078</th>\n",
       "      <td>2008</td>\n",
       "      <td>A10</td>\n",
       "      <td>1</td>\n",
       "      <td>1</td>\n",
       "      <td>1</td>\n",
       "      <td>1</td>\n",
       "      <td>244</td>\n",
       "      <td>Xavier</td>\n",
       "      <td>3</td>\n",
       "      <td>8</td>\n",
       "      <td>...</td>\n",
       "      <td>225</td>\n",
       "      <td>149</td>\n",
       "      <td>92</td>\n",
       "      <td>63</td>\n",
       "      <td>147</td>\n",
       "      <td>20</td>\n",
       "      <td>86</td>\n",
       "      <td>4</td>\n",
       "      <td>44</td>\n",
       "      <td>85</td>\n",
       "    </tr>\n",
       "  </tbody>\n",
       "</table>\n",
       "<p>1079 rows × 103 columns</p>\n",
       "</div>"
      ],
      "text/plain": [
       "      YEAR  CONF  CONF ID  QUAD NO  QUAD ID  TEAM NO  TEAM ID  \\\n",
       "0     2024   MAC       17       61        1     1079        2   \n",
       "1     2024   SEC       28       63        3     1078        3   \n",
       "2     2024   P12       24       63        3     1077        8   \n",
       "3     2024   SEC       28       64        4     1076       12   \n",
       "4     2024   B12        7       63        3     1075       14   \n",
       "...    ...   ...      ...      ...      ...      ...      ...   \n",
       "1074  2008    BE        8        1        1        5      235   \n",
       "1075  2008    SB       26        1        1        4      236   \n",
       "1076  2008  BSth       10        4        4        3      239   \n",
       "1077  2008   B10        6        3        3        2      240   \n",
       "1078  2008   A10        1        1        1        1      244   \n",
       "\n",
       "                  TEAM  SEED  ROUND  ...  BADJT RANK  AVG HGT RANK  \\\n",
       "0                Akron    14     64  ...         276           238   \n",
       "1              Alabama     4      4  ...          13            33   \n",
       "2              Arizona     2     16  ...          16            50   \n",
       "3               Auburn     4     64  ...          58            86   \n",
       "4               Baylor     3     32  ...         274            31   \n",
       "...                ...   ...    ...  ...         ...           ...   \n",
       "1074     West Virginia     7     16  ...         225            18   \n",
       "1075  Western Kentucky    12     16  ...         111           160   \n",
       "1076          Winthrop    13     64  ...         301           231   \n",
       "1077         Wisconsin     3     16  ...         301            51   \n",
       "1078            Xavier     3      8  ...         225           149   \n",
       "\n",
       "      EFF HGT RANK  EXP RANK  TALENT RANK  FT% RANK  OP FT% RANK  PPPO RANK  \\\n",
       "0              199        19          176       164           47        122   \n",
       "1                8       156          106        10          314          2   \n",
       "2               37       196            7       195          134          8   \n",
       "3               76       127           69        59          284         12   \n",
       "4               22       304           34        97          254         15   \n",
       "...            ...       ...          ...       ...          ...        ...   \n",
       "1074           115       181           61       209           16         22   \n",
       "1075           179        55          131       127          214         27   \n",
       "1076           206        89          236       339          190        170   \n",
       "1077            35        98           12       118          117         60   \n",
       "1078            92        63          147        20           86          4   \n",
       "\n",
       "      PPPD RANK  ELITE SOS RANK  \n",
       "0            51             249  \n",
       "1           263               7  \n",
       "2            14              47  \n",
       "3             8              69  \n",
       "4           155               1  \n",
       "...         ...             ...  \n",
       "1074         32              49  \n",
       "1075         28             203  \n",
       "1076         12             179  \n",
       "1077          2              57  \n",
       "1078         44              85  \n",
       "\n",
       "[1079 rows x 103 columns]"
      ]
     },
     "execution_count": 16,
     "metadata": {},
     "output_type": "execute_result"
    }
   ],
   "source": [
    "df = pd.read_csv(\"Datasets/KenPom Barttorvik.csv\")\n",
    "df"
   ]
  },
  {
   "cell_type": "code",
   "execution_count": 17,
   "id": "6aa6c2dd-7a8b-466a-8725-dcf9145d50cf",
   "metadata": {
    "tags": []
   },
   "outputs": [
    {
     "data": {
      "text/html": [
       "<div>\n",
       "<style scoped>\n",
       "    .dataframe tbody tr th:only-of-type {\n",
       "        vertical-align: middle;\n",
       "    }\n",
       "\n",
       "    .dataframe tbody tr th {\n",
       "        vertical-align: top;\n",
       "    }\n",
       "\n",
       "    .dataframe thead th {\n",
       "        text-align: right;\n",
       "    }\n",
       "</style>\n",
       "<table border=\"1\" class=\"dataframe\">\n",
       "  <thead>\n",
       "    <tr style=\"text-align: right;\">\n",
       "      <th></th>\n",
       "      <th>YEAR</th>\n",
       "      <th>CONF</th>\n",
       "      <th>CONF ID</th>\n",
       "      <th>QUAD NO</th>\n",
       "      <th>QUAD ID</th>\n",
       "      <th>TEAM NO</th>\n",
       "      <th>TEAM ID</th>\n",
       "      <th>TEAM</th>\n",
       "      <th>SEED</th>\n",
       "      <th>ROUND</th>\n",
       "      <th>...</th>\n",
       "      <th>AVG HGT RANK</th>\n",
       "      <th>EFF HGT RANK</th>\n",
       "      <th>EXP RANK</th>\n",
       "      <th>TALENT RANK</th>\n",
       "      <th>FT% RANK</th>\n",
       "      <th>OP FT% RANK</th>\n",
       "      <th>PPPO RANK</th>\n",
       "      <th>PPPD RANK</th>\n",
       "      <th>ELITE SOS RANK</th>\n",
       "      <th>WINS</th>\n",
       "    </tr>\n",
       "  </thead>\n",
       "  <tbody>\n",
       "    <tr>\n",
       "      <th>1077</th>\n",
       "      <td>2008</td>\n",
       "      <td>B10</td>\n",
       "      <td>6</td>\n",
       "      <td>3</td>\n",
       "      <td>3</td>\n",
       "      <td>2</td>\n",
       "      <td>240</td>\n",
       "      <td>Wisconsin</td>\n",
       "      <td>3</td>\n",
       "      <td>16</td>\n",
       "      <td>...</td>\n",
       "      <td>51</td>\n",
       "      <td>35</td>\n",
       "      <td>98</td>\n",
       "      <td>12</td>\n",
       "      <td>118</td>\n",
       "      <td>117</td>\n",
       "      <td>60</td>\n",
       "      <td>2</td>\n",
       "      <td>57</td>\n",
       "      <td>2</td>\n",
       "    </tr>\n",
       "    <tr>\n",
       "      <th>1078</th>\n",
       "      <td>2008</td>\n",
       "      <td>A10</td>\n",
       "      <td>1</td>\n",
       "      <td>1</td>\n",
       "      <td>1</td>\n",
       "      <td>1</td>\n",
       "      <td>244</td>\n",
       "      <td>Xavier</td>\n",
       "      <td>3</td>\n",
       "      <td>8</td>\n",
       "      <td>...</td>\n",
       "      <td>149</td>\n",
       "      <td>92</td>\n",
       "      <td>63</td>\n",
       "      <td>147</td>\n",
       "      <td>20</td>\n",
       "      <td>86</td>\n",
       "      <td>4</td>\n",
       "      <td>44</td>\n",
       "      <td>85</td>\n",
       "      <td>3</td>\n",
       "    </tr>\n",
       "  </tbody>\n",
       "</table>\n",
       "<p>2 rows × 104 columns</p>\n",
       "</div>"
      ],
      "text/plain": [
       "      YEAR CONF  CONF ID  QUAD NO  QUAD ID  TEAM NO  TEAM ID       TEAM  SEED  \\\n",
       "1077  2008  B10        6        3        3        2      240  Wisconsin     3   \n",
       "1078  2008  A10        1        1        1        1      244     Xavier     3   \n",
       "\n",
       "      ROUND  ...  AVG HGT RANK  EFF HGT RANK  EXP RANK  TALENT RANK  FT% RANK  \\\n",
       "1077     16  ...            51            35        98           12       118   \n",
       "1078      8  ...           149            92        63          147        20   \n",
       "\n",
       "      OP FT% RANK  PPPO RANK  PPPD RANK  ELITE SOS RANK  WINS  \n",
       "1077          117         60          2              57     2  \n",
       "1078           86          4         44              85     3  \n",
       "\n",
       "[2 rows x 104 columns]"
      ]
     },
     "execution_count": 17,
     "metadata": {},
     "output_type": "execute_result"
    }
   ],
   "source": [
    "conditions = [\n",
    "    (df['ROUND'] == 1),\n",
    "    (df['ROUND'] == 2),\n",
    "    (df['ROUND'] == 4),\n",
    "    (df['ROUND'] == 8),\n",
    "    (df['ROUND'] == 16),\n",
    "    (df['ROUND'] == 32),\n",
    "    (df['ROUND'] == 64)\n",
    "]\n",
    "\n",
    "values = [6, 5, 4, 3, 2, 1, 0]\n",
    "\n",
    "# Create a new column based on conditions\n",
    "df['WINS'] = np.select(conditions, values, default=None)\n",
    "df.tail(2)"
   ]
  },
  {
   "cell_type": "code",
   "execution_count": 18,
   "id": "de1c80a5-297e-497a-a0fc-c4941d897d06",
   "metadata": {
    "tags": []
   },
   "outputs": [
    {
     "name": "stdout",
     "output_type": "stream",
     "text": [
      "(256, 104)\n"
     ]
    }
   ],
   "source": [
    "df_train = df[df['YEAR'] != 2024]\n",
    "df_train = df_train[df_train['YEAR'] >= 2019]\n",
    "df_train = df_train[df_train['ROUND'] < 68]\n",
    "print(df_train.shape)\n",
    "df_test = df[df['YEAR'] == 2024]\n",
    "df_test = df_test[df_test['ROUND'] != 68]\n",
    "\n"
   ]
  },
  {
   "cell_type": "code",
   "execution_count": 19,
   "id": "a9ddf62c-395b-42da-b1a5-16e1bb8f2490",
   "metadata": {
    "tags": []
   },
   "outputs": [],
   "source": [
    "X_train = df_train.drop(['TEAM', 'CONF','CONF ID','QUAD NO', 'QUAD ID','TEAM NO','TEAM ID','ROUND','YEAR','ROUND','WINS'], axis=1)\n",
    "y_train = df_train['WINS']\n",
    "X_test = df_test.drop(['TEAM', 'CONF','CONF ID','QUAD NO', 'QUAD ID','TEAM NO','TEAM ID','ROUND','YEAR','ROUND','WINS'], axis=1)  \n",
    "y_test = df_test['WINS']"
   ]
  },
  {
   "cell_type": "code",
   "execution_count": 20,
   "id": "304f5e53-6868-4f65-9328-6c8fbedfbb1f",
   "metadata": {
    "tags": []
   },
   "outputs": [],
   "source": [
    "X_train = (X_train - X_train.mean())/X_train.std()\n",
    "X_test = (X_test - X_test.mean())/X_test.std()"
   ]
  },
  {
   "cell_type": "code",
   "execution_count": 21,
   "id": "9a91ec25-de41-4150-83f2-e98f0d193fa8",
   "metadata": {
    "tags": []
   },
   "outputs": [
    {
     "data": {
      "text/plain": [
       "68    2\n",
       "69    0\n",
       "Name: WINS, dtype: object"
      ]
     },
     "execution_count": 21,
     "metadata": {},
     "output_type": "execute_result"
    }
   ],
   "source": [
    "results = []\n",
    "TrainR2 = []\n",
    "TestR2 = []\n",
    "depth = []\n",
    "X_train.head(2)\n",
    "y_train.head(2)"
   ]
  },
  {
   "cell_type": "code",
   "execution_count": 22,
   "id": "b4fb22d9-2a0d-4044-a815-07b0e6bbb4e1",
   "metadata": {
    "tags": []
   },
   "outputs": [],
   "source": [
    "dtree = DecisionTreeClassifier(max_depth=2)"
   ]
  },
  {
   "cell_type": "code",
   "execution_count": 23,
   "id": "7875a177-3081-4a06-a590-88f67cbcd1eb",
   "metadata": {
    "tags": []
   },
   "outputs": [
    {
     "ename": "ValueError",
     "evalue": "Unknown label type: 'unknown'",
     "output_type": "error",
     "traceback": [
      "\u001b[1;31m---------------------------------------------------------------------------\u001b[0m",
      "\u001b[1;31mValueError\u001b[0m                                Traceback (most recent call last)",
      "Cell \u001b[1;32mIn[23], line 1\u001b[0m\n\u001b[1;32m----> 1\u001b[0m dtree\u001b[38;5;241m.\u001b[39mfit(X_train,y_train)\n",
      "File \u001b[1;32m~\\AppData\\Local\\anaconda3\\Lib\\site-packages\\sklearn\\tree\\_classes.py:889\u001b[0m, in \u001b[0;36mDecisionTreeClassifier.fit\u001b[1;34m(self, X, y, sample_weight, check_input)\u001b[0m\n\u001b[0;32m    859\u001b[0m \u001b[38;5;28;01mdef\u001b[39;00m \u001b[38;5;21mfit\u001b[39m(\u001b[38;5;28mself\u001b[39m, X, y, sample_weight\u001b[38;5;241m=\u001b[39m\u001b[38;5;28;01mNone\u001b[39;00m, check_input\u001b[38;5;241m=\u001b[39m\u001b[38;5;28;01mTrue\u001b[39;00m):\n\u001b[0;32m    860\u001b[0m \u001b[38;5;250m    \u001b[39m\u001b[38;5;124;03m\"\"\"Build a decision tree classifier from the training set (X, y).\u001b[39;00m\n\u001b[0;32m    861\u001b[0m \n\u001b[0;32m    862\u001b[0m \u001b[38;5;124;03m    Parameters\u001b[39;00m\n\u001b[1;32m   (...)\u001b[0m\n\u001b[0;32m    886\u001b[0m \u001b[38;5;124;03m        Fitted estimator.\u001b[39;00m\n\u001b[0;32m    887\u001b[0m \u001b[38;5;124;03m    \"\"\"\u001b[39;00m\n\u001b[1;32m--> 889\u001b[0m     \u001b[38;5;28msuper\u001b[39m()\u001b[38;5;241m.\u001b[39mfit(\n\u001b[0;32m    890\u001b[0m         X,\n\u001b[0;32m    891\u001b[0m         y,\n\u001b[0;32m    892\u001b[0m         sample_weight\u001b[38;5;241m=\u001b[39msample_weight,\n\u001b[0;32m    893\u001b[0m         check_input\u001b[38;5;241m=\u001b[39mcheck_input,\n\u001b[0;32m    894\u001b[0m     )\n\u001b[0;32m    895\u001b[0m     \u001b[38;5;28;01mreturn\u001b[39;00m \u001b[38;5;28mself\u001b[39m\n",
      "File \u001b[1;32m~\\AppData\\Local\\anaconda3\\Lib\\site-packages\\sklearn\\tree\\_classes.py:224\u001b[0m, in \u001b[0;36mBaseDecisionTree.fit\u001b[1;34m(self, X, y, sample_weight, check_input)\u001b[0m\n\u001b[0;32m    221\u001b[0m \u001b[38;5;28mself\u001b[39m\u001b[38;5;241m.\u001b[39mn_outputs_ \u001b[38;5;241m=\u001b[39m y\u001b[38;5;241m.\u001b[39mshape[\u001b[38;5;241m1\u001b[39m]\n\u001b[0;32m    223\u001b[0m \u001b[38;5;28;01mif\u001b[39;00m is_classification:\n\u001b[1;32m--> 224\u001b[0m     check_classification_targets(y)\n\u001b[0;32m    225\u001b[0m     y \u001b[38;5;241m=\u001b[39m np\u001b[38;5;241m.\u001b[39mcopy(y)\n\u001b[0;32m    227\u001b[0m     \u001b[38;5;28mself\u001b[39m\u001b[38;5;241m.\u001b[39mclasses_ \u001b[38;5;241m=\u001b[39m []\n",
      "File \u001b[1;32m~\\AppData\\Local\\anaconda3\\Lib\\site-packages\\sklearn\\utils\\multiclass.py:218\u001b[0m, in \u001b[0;36mcheck_classification_targets\u001b[1;34m(y)\u001b[0m\n\u001b[0;32m    210\u001b[0m y_type \u001b[38;5;241m=\u001b[39m type_of_target(y, input_name\u001b[38;5;241m=\u001b[39m\u001b[38;5;124m\"\u001b[39m\u001b[38;5;124my\u001b[39m\u001b[38;5;124m\"\u001b[39m)\n\u001b[0;32m    211\u001b[0m \u001b[38;5;28;01mif\u001b[39;00m y_type \u001b[38;5;129;01mnot\u001b[39;00m \u001b[38;5;129;01min\u001b[39;00m [\n\u001b[0;32m    212\u001b[0m     \u001b[38;5;124m\"\u001b[39m\u001b[38;5;124mbinary\u001b[39m\u001b[38;5;124m\"\u001b[39m,\n\u001b[0;32m    213\u001b[0m     \u001b[38;5;124m\"\u001b[39m\u001b[38;5;124mmulticlass\u001b[39m\u001b[38;5;124m\"\u001b[39m,\n\u001b[1;32m   (...)\u001b[0m\n\u001b[0;32m    216\u001b[0m     \u001b[38;5;124m\"\u001b[39m\u001b[38;5;124mmultilabel-sequences\u001b[39m\u001b[38;5;124m\"\u001b[39m,\n\u001b[0;32m    217\u001b[0m ]:\n\u001b[1;32m--> 218\u001b[0m     \u001b[38;5;28;01mraise\u001b[39;00m \u001b[38;5;167;01mValueError\u001b[39;00m(\u001b[38;5;124m\"\u001b[39m\u001b[38;5;124mUnknown label type: \u001b[39m\u001b[38;5;132;01m%r\u001b[39;00m\u001b[38;5;124m\"\u001b[39m \u001b[38;5;241m%\u001b[39m y_type)\n",
      "\u001b[1;31mValueError\u001b[0m: Unknown label type: 'unknown'"
     ]
    }
   ],
   "source": [
    "dtree.fit(X_train,y_train)"
   ]
  },
  {
   "cell_type": "code",
   "execution_count": null,
   "id": "ec35e4df-4de2-4dc1-9111-8c768a02c1b1",
   "metadata": {},
   "outputs": [],
   "source": [
    "dtree_string = export_text(dtree,feature_names = list(X_train.columns),decimals = 1, spacing = 6)\n",
    "print(dtree_string)"
   ]
  },
  {
   "cell_type": "code",
   "execution_count": null,
   "id": "e81207d5-a2ce-4514-8982-aecbc34cb477",
   "metadata": {},
   "outputs": [],
   "source": []
  }
 ],
 "metadata": {
  "kernelspec": {
   "display_name": "Python 3 (ipykernel)",
   "language": "python",
   "name": "python3"
  },
  "language_info": {
   "codemirror_mode": {
    "name": "ipython",
    "version": 3
   },
   "file_extension": ".py",
   "mimetype": "text/x-python",
   "name": "python",
   "nbconvert_exporter": "python",
   "pygments_lexer": "ipython3",
   "version": "3.11.7"
  }
 },
 "nbformat": 4,
 "nbformat_minor": 5
}
