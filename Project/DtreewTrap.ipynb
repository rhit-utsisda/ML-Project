{
 "cells": [
  {
   "cell_type": "code",
   "execution_count": 20,
   "id": "61263553-a1cf-48d0-add1-a5af093965a2",
   "metadata": {},
   "outputs": [],
   "source": [
    "import pandas as pd\n",
    "import numpy as np\n",
    "from sklearn.tree import DecisionTreeClassifier, export_text\n",
    "from sklearn.model_selection import cross_validate, train_test_split\n",
    "from sklearn.tree import DecisionTreeRegressor, export_graphviz\n",
    "from sklearn.model_selection import GridSearchCV\n",
    "from sklearn.ensemble import RandomForestRegressor, GradientBoostingRegressor\n",
    "import graphviz"
   ]
  },
  {
   "cell_type": "code",
   "execution_count": 6,
   "id": "606f9ff9-9af6-46c8-9977-5bcc09573686",
   "metadata": {
    "tags": []
   },
   "outputs": [
    {
     "data": {
      "text/html": [
       "<div>\n",
       "<style scoped>\n",
       "    .dataframe tbody tr th:only-of-type {\n",
       "        vertical-align: middle;\n",
       "    }\n",
       "\n",
       "    .dataframe tbody tr th {\n",
       "        vertical-align: top;\n",
       "    }\n",
       "\n",
       "    .dataframe thead th {\n",
       "        text-align: right;\n",
       "    }\n",
       "</style>\n",
       "<table border=\"1\" class=\"dataframe\">\n",
       "  <thead>\n",
       "    <tr style=\"text-align: right;\">\n",
       "      <th></th>\n",
       "      <th>Unnamed: 0</th>\n",
       "      <th>YEAR</th>\n",
       "      <th>TEAM NO</th>\n",
       "      <th>TEAM ID</th>\n",
       "      <th>TEAM</th>\n",
       "      <th>CONF</th>\n",
       "      <th>DUNKS FG%</th>\n",
       "      <th>DUNKS SHARE</th>\n",
       "      <th>DUNKS FG%D</th>\n",
       "      <th>DUNKS D SHARE</th>\n",
       "      <th>...</th>\n",
       "      <th>POWER</th>\n",
       "      <th>PATH</th>\n",
       "      <th>DRAW</th>\n",
       "      <th>WINS</th>\n",
       "      <th>POOL VALUE</th>\n",
       "      <th>POOL S-RANK</th>\n",
       "      <th>NCAA S-RANK</th>\n",
       "      <th>VAL Z-SCORE</th>\n",
       "      <th>POWER-PATH</th>\n",
       "      <th>Within Trapezoid of Excellence</th>\n",
       "    </tr>\n",
       "  </thead>\n",
       "  <tbody>\n",
       "    <tr>\n",
       "      <th>318</th>\n",
       "      <td>318</td>\n",
       "      <td>2019</td>\n",
       "      <td>741</td>\n",
       "      <td>241</td>\n",
       "      <td>Wofford</td>\n",
       "      <td>SC</td>\n",
       "      <td>92.6</td>\n",
       "      <td>6.3</td>\n",
       "      <td>85.7</td>\n",
       "      <td>4.0</td>\n",
       "      <td>...</td>\n",
       "      <td>71.8</td>\n",
       "      <td>70.7</td>\n",
       "      <td>0.46</td>\n",
       "      <td>1</td>\n",
       "      <td>14.5</td>\n",
       "      <td>23</td>\n",
       "      <td>28</td>\n",
       "      <td>0.227</td>\n",
       "      <td>1.1</td>\n",
       "      <td>0</td>\n",
       "    </tr>\n",
       "    <tr>\n",
       "      <th>319</th>\n",
       "      <td>319</td>\n",
       "      <td>2019</td>\n",
       "      <td>740</td>\n",
       "      <td>245</td>\n",
       "      <td>Yale</td>\n",
       "      <td>Ivy</td>\n",
       "      <td>94.3</td>\n",
       "      <td>9.3</td>\n",
       "      <td>82.6</td>\n",
       "      <td>4.1</td>\n",
       "      <td>...</td>\n",
       "      <td>58.4</td>\n",
       "      <td>75.7</td>\n",
       "      <td>0.66</td>\n",
       "      <td>0</td>\n",
       "      <td>3.6</td>\n",
       "      <td>48</td>\n",
       "      <td>53</td>\n",
       "      <td>0.613</td>\n",
       "      <td>-17.3</td>\n",
       "      <td>0</td>\n",
       "    </tr>\n",
       "  </tbody>\n",
       "</table>\n",
       "<p>2 rows × 50 columns</p>\n",
       "</div>"
      ],
      "text/plain": [
       "     Unnamed: 0  YEAR  TEAM NO  TEAM ID     TEAM CONF  DUNKS FG%  DUNKS SHARE  \\\n",
       "318         318  2019      741      241  Wofford   SC       92.6          6.3   \n",
       "319         319  2019      740      245     Yale  Ivy       94.3          9.3   \n",
       "\n",
       "     DUNKS FG%D  DUNKS D SHARE  ...  POWER  PATH  DRAW  WINS  POOL VALUE  \\\n",
       "318        85.7            4.0  ...   71.8  70.7  0.46     1        14.5   \n",
       "319        82.6            4.1  ...   58.4  75.7  0.66     0         3.6   \n",
       "\n",
       "     POOL S-RANK  NCAA S-RANK  VAL Z-SCORE  POWER-PATH  \\\n",
       "318           23           28        0.227         1.1   \n",
       "319           48           53        0.613       -17.3   \n",
       "\n",
       "     Within Trapezoid of Excellence  \n",
       "318                               0  \n",
       "319                               0  \n",
       "\n",
       "[2 rows x 50 columns]"
      ]
     },
     "execution_count": 6,
     "metadata": {},
     "output_type": "execute_result"
    }
   ],
   "source": [
    "df = pd.read_csv('ShootingSplits_HeatCheckTourwTrap.csv')\n",
    "df.tail(2)"
   ]
  },
  {
   "cell_type": "code",
   "execution_count": 7,
   "id": "34c09eb1-9abd-4b79-a4ef-9d8e371f3c51",
   "metadata": {},
   "outputs": [
    {
     "data": {
      "text/plain": [
       "(256, 48)"
      ]
     },
     "execution_count": 7,
     "metadata": {},
     "output_type": "execute_result"
    }
   ],
   "source": [
    "df = df.dropna(axis=1)\n",
    "df_train = df[df['YEAR'] != 2024]\n",
    "df_test = df[df['YEAR'] == 2024]\n",
    "df_train.shape"
   ]
  },
  {
   "cell_type": "code",
   "execution_count": 8,
   "id": "33d0a623-142c-4bf4-9f09-94c7f9ae43d1",
   "metadata": {},
   "outputs": [
    {
     "data": {
      "text/plain": [
       "0    0\n",
       "1    4\n",
       "2    2\n",
       "3    0\n",
       "4    1\n",
       "Name: WINS, dtype: int64"
      ]
     },
     "execution_count": 8,
     "metadata": {},
     "output_type": "execute_result"
    }
   ],
   "source": [
    "X_train = df_train.drop(['Unnamed: 0','YEAR','TEAM NO','TEAM ID','TEAM','CONF','WINS','ROUND'],axis=1)\n",
    "X_test = df_test.drop(['Unnamed: 0','YEAR','TEAM NO','TEAM ID','TEAM','CONF','WINS','ROUND'],axis=1)\n",
    "y_train = df_train.WINS\n",
    "y_test = df_test.WINS\n",
    "y_test.head(5)"
   ]
  },
  {
   "cell_type": "code",
   "execution_count": 9,
   "id": "ee8d10c2-c874-490f-80e0-4044ad224b5f",
   "metadata": {},
   "outputs": [],
   "source": [
    "X_train = (X_train - X_train.mean())/X_train.std()\n",
    "X_test = (X_test - X_test.mean())/X_test.std()"
   ]
  },
  {
   "cell_type": "code",
   "execution_count": 10,
   "id": "28a7ed0b-25f4-4844-8a4c-5ca38995082f",
   "metadata": {},
   "outputs": [
    {
     "data": {
      "text/html": [
       "<style>#sk-container-id-1 {color: black;background-color: white;}#sk-container-id-1 pre{padding: 0;}#sk-container-id-1 div.sk-toggleable {background-color: white;}#sk-container-id-1 label.sk-toggleable__label {cursor: pointer;display: block;width: 100%;margin-bottom: 0;padding: 0.3em;box-sizing: border-box;text-align: center;}#sk-container-id-1 label.sk-toggleable__label-arrow:before {content: \"▸\";float: left;margin-right: 0.25em;color: #696969;}#sk-container-id-1 label.sk-toggleable__label-arrow:hover:before {color: black;}#sk-container-id-1 div.sk-estimator:hover label.sk-toggleable__label-arrow:before {color: black;}#sk-container-id-1 div.sk-toggleable__content {max-height: 0;max-width: 0;overflow: hidden;text-align: left;background-color: #f0f8ff;}#sk-container-id-1 div.sk-toggleable__content pre {margin: 0.2em;color: black;border-radius: 0.25em;background-color: #f0f8ff;}#sk-container-id-1 input.sk-toggleable__control:checked~div.sk-toggleable__content {max-height: 200px;max-width: 100%;overflow: auto;}#sk-container-id-1 input.sk-toggleable__control:checked~label.sk-toggleable__label-arrow:before {content: \"▾\";}#sk-container-id-1 div.sk-estimator input.sk-toggleable__control:checked~label.sk-toggleable__label {background-color: #d4ebff;}#sk-container-id-1 div.sk-label input.sk-toggleable__control:checked~label.sk-toggleable__label {background-color: #d4ebff;}#sk-container-id-1 input.sk-hidden--visually {border: 0;clip: rect(1px 1px 1px 1px);clip: rect(1px, 1px, 1px, 1px);height: 1px;margin: -1px;overflow: hidden;padding: 0;position: absolute;width: 1px;}#sk-container-id-1 div.sk-estimator {font-family: monospace;background-color: #f0f8ff;border: 1px dotted black;border-radius: 0.25em;box-sizing: border-box;margin-bottom: 0.5em;}#sk-container-id-1 div.sk-estimator:hover {background-color: #d4ebff;}#sk-container-id-1 div.sk-parallel-item::after {content: \"\";width: 100%;border-bottom: 1px solid gray;flex-grow: 1;}#sk-container-id-1 div.sk-label:hover label.sk-toggleable__label {background-color: #d4ebff;}#sk-container-id-1 div.sk-serial::before {content: \"\";position: absolute;border-left: 1px solid gray;box-sizing: border-box;top: 0;bottom: 0;left: 50%;z-index: 0;}#sk-container-id-1 div.sk-serial {display: flex;flex-direction: column;align-items: center;background-color: white;padding-right: 0.2em;padding-left: 0.2em;position: relative;}#sk-container-id-1 div.sk-item {position: relative;z-index: 1;}#sk-container-id-1 div.sk-parallel {display: flex;align-items: stretch;justify-content: center;background-color: white;position: relative;}#sk-container-id-1 div.sk-item::before, #sk-container-id-1 div.sk-parallel-item::before {content: \"\";position: absolute;border-left: 1px solid gray;box-sizing: border-box;top: 0;bottom: 0;left: 50%;z-index: -1;}#sk-container-id-1 div.sk-parallel-item {display: flex;flex-direction: column;z-index: 1;position: relative;background-color: white;}#sk-container-id-1 div.sk-parallel-item:first-child::after {align-self: flex-end;width: 50%;}#sk-container-id-1 div.sk-parallel-item:last-child::after {align-self: flex-start;width: 50%;}#sk-container-id-1 div.sk-parallel-item:only-child::after {width: 0;}#sk-container-id-1 div.sk-dashed-wrapped {border: 1px dashed gray;margin: 0 0.4em 0.5em 0.4em;box-sizing: border-box;padding-bottom: 0.4em;background-color: white;}#sk-container-id-1 div.sk-label label {font-family: monospace;font-weight: bold;display: inline-block;line-height: 1.2em;}#sk-container-id-1 div.sk-label-container {text-align: center;}#sk-container-id-1 div.sk-container {/* jupyter's `normalize.less` sets `[hidden] { display: none; }` but bootstrap.min.css set `[hidden] { display: none !important; }` so we also need the `!important` here to be able to override the default hidden behavior on the sphinx rendered scikit-learn.org. See: https://github.com/scikit-learn/scikit-learn/issues/21755 */display: inline-block !important;position: relative;}#sk-container-id-1 div.sk-text-repr-fallback {display: none;}</style><div id=\"sk-container-id-1\" class=\"sk-top-container\"><div class=\"sk-text-repr-fallback\"><pre>DecisionTreeClassifier(max_depth=2)</pre><b>In a Jupyter environment, please rerun this cell to show the HTML representation or trust the notebook. <br />On GitHub, the HTML representation is unable to render, please try loading this page with nbviewer.org.</b></div><div class=\"sk-container\" hidden><div class=\"sk-item\"><div class=\"sk-estimator sk-toggleable\"><input class=\"sk-toggleable__control sk-hidden--visually\" id=\"sk-estimator-id-1\" type=\"checkbox\" checked><label for=\"sk-estimator-id-1\" class=\"sk-toggleable__label sk-toggleable__label-arrow\">DecisionTreeClassifier</label><div class=\"sk-toggleable__content\"><pre>DecisionTreeClassifier(max_depth=2)</pre></div></div></div></div></div>"
      ],
      "text/plain": [
       "DecisionTreeClassifier(max_depth=2)"
      ]
     },
     "execution_count": 10,
     "metadata": {},
     "output_type": "execute_result"
    }
   ],
   "source": [
    "dtree = DecisionTreeClassifier(max_depth=2)\n",
    "dtree.fit(X_train,y_train)"
   ]
  },
  {
   "cell_type": "code",
   "execution_count": 11,
   "id": "4ce07e2d-5a68-4e88-b9d9-d0c279a8affb",
   "metadata": {},
   "outputs": [
    {
     "data": {
      "text/plain": [
       "0.5703125"
      ]
     },
     "execution_count": 11,
     "metadata": {},
     "output_type": "execute_result"
    }
   ],
   "source": [
    "dtree.score(X_train,y_train)"
   ]
  },
  {
   "cell_type": "code",
   "execution_count": 12,
   "id": "d4b8ff76-71d8-4138-a624-734ec2216937",
   "metadata": {},
   "outputs": [
    {
     "name": "stdout",
     "output_type": "stream",
     "text": [
      "|------ POOL VALUE <= 0.1\n",
      "|      |------ PATH <= 0.6\n",
      "|      |      |------ class: 0\n",
      "|      |------ PATH >  0.6\n",
      "|      |      |------ class: 0\n",
      "|------ POOL VALUE >  0.1\n",
      "|      |------ THREES D SHARE <= 0.3\n",
      "|      |      |------ class: 1\n",
      "|      |------ THREES D SHARE >  0.3\n",
      "|      |      |------ class: 2\n",
      "\n"
     ]
    }
   ],
   "source": [
    "dtree_string = export_text(dtree,feature_names = list(X_train.columns),decimals = 1, spacing = 6)\n",
    "print(dtree_string)"
   ]
  },
  {
   "cell_type": "code",
   "execution_count": 13,
   "id": "8d22ff0b-9959-4f0d-ab72-ff1e9785e746",
   "metadata": {},
   "outputs": [
    {
     "name": "stdout",
     "output_type": "stream",
     "text": [
      "validation accuracy rate 0.503921568627451\n"
     ]
    },
    {
     "name": "stderr",
     "output_type": "stream",
     "text": [
      "C:\\Users\\hobbsji\\AppData\\Local\\anaconda3\\Lib\\site-packages\\sklearn\\model_selection\\_split.py:700: UserWarning: The least populated class in y has only 4 members, which is less than n_splits=5.\n",
      "  warnings.warn(\n"
     ]
    }
   ],
   "source": [
    "cv_results = cross_validate(dtree,X_train,y_train)\n",
    "acc_valid = cv_results['test_score'].mean()\n",
    "print('validation accuracy rate',acc_valid)"
   ]
  },
  {
   "cell_type": "code",
   "execution_count": 14,
   "id": "fcde1439-dd4c-4d55-b301-0f84c79c9f49",
   "metadata": {},
   "outputs": [
    {
     "data": {
      "text/plain": [
       "0.53125"
      ]
     },
     "execution_count": 14,
     "metadata": {},
     "output_type": "execute_result"
    }
   ],
   "source": [
    "dtree.score(X_test,y_test)"
   ]
  },
  {
   "cell_type": "code",
   "execution_count": 15,
   "id": "de7b4ed1-c23b-45de-b65e-ffbd447935e3",
   "metadata": {},
   "outputs": [
    {
     "name": "stdout",
     "output_type": "stream",
     "text": [
      "\n",
      "best alpha = {'max_depth': 2}   valid R2 = 0.193\n"
     ]
    },
    {
     "data": {
      "text/plain": [
       "<Axes: xlabel='depth'>"
      ]
     },
     "execution_count": 15,
     "metadata": {},
     "output_type": "execute_result"
    },
    {
     "data": {
      "image/png": "[encoded data removed]",
      "text/plain": [
       "<Figure size 640x480 with 1 Axes>"
      ]
     },
     "metadata": {},
     "output_type": "display_data"
    }
   ],
   "source": [
    "grid = {'max_depth':np.arange(1,25)}\n",
    "\n",
    "dtree = DecisionTreeRegressor()\n",
    "dtreeCV = GridSearchCV(dtree,param_grid=grid,return_train_score=True)\n",
    "dtreeCV.fit(X_train,y_train)\n",
    "\n",
    "print()\n",
    "print('best alpha =',dtreeCV.best_params_, '  valid R2 =',dtreeCV.best_score_.round(3))\n",
    "\n",
    "results = pd.DataFrame()\n",
    "results['depth']    = grid['max_depth']\n",
    "results['train R2'] = dtreeCV.cv_results_['mean_train_score']\n",
    "results['valid R2'] = dtreeCV.cv_results_['mean_test_score']\n",
    "ax1 = results.plot.line(x='depth',y='train R2')\n",
    "results.plot.line(x='depth',y='valid R2',ax=ax1)"
   ]
  },
  {
   "cell_type": "code",
   "execution_count": 22,
   "id": "c5e7b6b2-3c6a-4e5e-89f3-abdbb5af2134",
   "metadata": {
    "tags": []
   },
   "outputs": [
    {
     "name": "stdout",
     "output_type": "stream",
     "text": [
      "best parameter {'max_depth': 16, 'n_estimators': 200}\n",
      "validation R2 0.3\n"
     ]
    }
   ],
   "source": [
    "grid = {'n_estimators':[10,100,200],'max_depth':np.arange(1,30)}\n",
    "rf = RandomForestRegressor(n_jobs=-1)\n",
    "rfCV = GridSearchCV(rf,param_grid=grid,n_jobs=-1)\n",
    "rfCV.fit(X_train,y_train)\n",
    "print('best parameter',rfCV.best_params_)\n",
    "print('validation R2',rfCV.best_score_.round(2))"
   ]
  },
  {
   "cell_type": "code",
   "execution_count": 23,
   "id": "734ee0b6-af20-47ec-af23-5ef16ab08bd4",
   "metadata": {
    "tags": []
   },
   "outputs": [
    {
     "name": "stdout",
     "output_type": "stream",
     "text": [
      "Forest -> train R2 = 0.896   test R2 = 0.405\n"
     ]
    }
   ],
   "source": [
    "rf_opt = rfCV.best_estimator_\n",
    "R2_train = rf_opt.score(X_train,y_train)\n",
    "R2_test  = rf_opt.score(X_test,y_test)\n",
    "print('Forest -> train R2 =',R2_train.round(3),'  test R2 =',R2_test.round(3))\n"
   ]
  },
  {
   "cell_type": "code",
   "execution_count": null,
   "id": "e0677958-5524-455f-9552-a7040bc8ed7c",
   "metadata": {},
   "outputs": [],
   "source": []
  }
 ],
 "metadata": {
  "kernelspec": {
   "display_name": "Python 3 (ipykernel)",
   "language": "python",
   "name": "python3"
  },
  "language_info": {
   "codemirror_mode": {
    "name": "ipython",
    "version": 3
   },
   "file_extension": ".py",
   "mimetype": "text/x-python",
   "name": "python",
   "nbconvert_exporter": "python",
   "pygments_lexer": "ipython3",
   "version": "3.11.7"
  }
 },
 "nbformat": 4,
 "nbformat_minor": 5
}
