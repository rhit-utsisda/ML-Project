{
 "cells": [
  {
   "cell_type": "code",
   "execution_count": 107,
   "id": "2bdfac4a-eabf-4925-91ee-a17ce3ae01f3",
   "metadata": {},
   "outputs": [],
   "source": [
    "import pandas as pd\n",
    "from sklearn.tree import DecisionTreeClassifier, export_text, DecisionTreeRegressor\n",
    "from sklearn.model_selection import cross_validate, train_test_split\n",
    "from sklearn.model_selection import GridSearchCV\n",
    "import graphviz \n",
    "import numpy as np\n",
    "from sklearn.neighbors import KNeighborsClassifier\n",
    "from sklearn.linear_model import LogisticRegression"
   ]
  },
  {
   "cell_type": "code",
   "execution_count": 123,
   "id": "ca66c0f9-3a00-4cf4-b552-80b0cc7588fb",
   "metadata": {},
   "outputs": [
    {
     "name": "stdout",
     "output_type": "stream",
     "text": [
      "(704, 47)\n"
     ]
    },
    {
     "data": {
      "text/html": [
       "<div>\n",
       "<style scoped>\n",
       "    .dataframe tbody tr th:only-of-type {\n",
       "        vertical-align: middle;\n",
       "    }\n",
       "\n",
       "    .dataframe tbody tr th {\n",
       "        vertical-align: top;\n",
       "    }\n",
       "\n",
       "    .dataframe thead th {\n",
       "        text-align: right;\n",
       "    }\n",
       "</style>\n",
       "<table border=\"1\" class=\"dataframe\">\n",
       "  <thead>\n",
       "    <tr style=\"text-align: right;\">\n",
       "      <th></th>\n",
       "      <th>Unnamed: 0</th>\n",
       "      <th>YEAR</th>\n",
       "      <th>TEAM NO</th>\n",
       "      <th>TEAM ID</th>\n",
       "      <th>TEAM</th>\n",
       "      <th>CONF</th>\n",
       "      <th>DUNKS FG%</th>\n",
       "      <th>DUNKS SHARE</th>\n",
       "      <th>DUNKS FG%D</th>\n",
       "      <th>DUNKS D SHARE</th>\n",
       "      <th>...</th>\n",
       "      <th>THREES D SHARE RANK</th>\n",
       "      <th>SEED</th>\n",
       "      <th>ROUND</th>\n",
       "      <th>POWER</th>\n",
       "      <th>PATH</th>\n",
       "      <th>WINS</th>\n",
       "      <th>POOL VALUE</th>\n",
       "      <th>POOL S-RANK</th>\n",
       "      <th>NCAA S-RANK</th>\n",
       "      <th>POWER-PATH</th>\n",
       "    </tr>\n",
       "  </thead>\n",
       "  <tbody>\n",
       "    <tr>\n",
       "      <th>0</th>\n",
       "      <td>0</td>\n",
       "      <td>2024</td>\n",
       "      <td>1079</td>\n",
       "      <td>2</td>\n",
       "      <td>Akron</td>\n",
       "      <td>MAC</td>\n",
       "      <td>97.2</td>\n",
       "      <td>6.8</td>\n",
       "      <td>90.6</td>\n",
       "      <td>5.6</td>\n",
       "      <td>...</td>\n",
       "      <td>170</td>\n",
       "      <td>14</td>\n",
       "      <td>64</td>\n",
       "      <td>54.3</td>\n",
       "      <td>79.8</td>\n",
       "      <td>0</td>\n",
       "      <td>2.0</td>\n",
       "      <td>54</td>\n",
       "      <td>54</td>\n",
       "      <td>-25.5</td>\n",
       "    </tr>\n",
       "    <tr>\n",
       "      <th>1</th>\n",
       "      <td>1</td>\n",
       "      <td>2024</td>\n",
       "      <td>1078</td>\n",
       "      <td>3</td>\n",
       "      <td>Alabama</td>\n",
       "      <td>SEC</td>\n",
       "      <td>81.9</td>\n",
       "      <td>9.5</td>\n",
       "      <td>89.2</td>\n",
       "      <td>7.3</td>\n",
       "      <td>...</td>\n",
       "      <td>164</td>\n",
       "      <td>4</td>\n",
       "      <td>4</td>\n",
       "      <td>77.3</td>\n",
       "      <td>66.4</td>\n",
       "      <td>4</td>\n",
       "      <td>39.0</td>\n",
       "      <td>13</td>\n",
       "      <td>16</td>\n",
       "      <td>10.9</td>\n",
       "    </tr>\n",
       "    <tr>\n",
       "      <th>2</th>\n",
       "      <td>2</td>\n",
       "      <td>2024</td>\n",
       "      <td>1077</td>\n",
       "      <td>8</td>\n",
       "      <td>Arizona</td>\n",
       "      <td>P12</td>\n",
       "      <td>91.2</td>\n",
       "      <td>11.9</td>\n",
       "      <td>89.3</td>\n",
       "      <td>5.9</td>\n",
       "      <td>...</td>\n",
       "      <td>219</td>\n",
       "      <td>2</td>\n",
       "      <td>16</td>\n",
       "      <td>86.2</td>\n",
       "      <td>64.6</td>\n",
       "      <td>2</td>\n",
       "      <td>91.8</td>\n",
       "      <td>2</td>\n",
       "      <td>6</td>\n",
       "      <td>21.6</td>\n",
       "    </tr>\n",
       "  </tbody>\n",
       "</table>\n",
       "<p>3 rows × 47 columns</p>\n",
       "</div>"
      ],
      "text/plain": [
       "   Unnamed: 0  YEAR  TEAM NO  TEAM ID     TEAM CONF  DUNKS FG%  DUNKS SHARE  \\\n",
       "0           0  2024     1079        2    Akron  MAC       97.2          6.8   \n",
       "1           1  2024     1078        3  Alabama  SEC       81.9          9.5   \n",
       "2           2  2024     1077        8  Arizona  P12       91.2         11.9   \n",
       "\n",
       "   DUNKS FG%D  DUNKS D SHARE  ...  THREES D SHARE RANK  SEED  ROUND  POWER  \\\n",
       "0        90.6            5.6  ...                  170    14     64   54.3   \n",
       "1        89.2            7.3  ...                  164     4      4   77.3   \n",
       "2        89.3            5.9  ...                  219     2     16   86.2   \n",
       "\n",
       "   PATH  WINS  POOL VALUE  POOL S-RANK  NCAA S-RANK  POWER-PATH  \n",
       "0  79.8     0         2.0           54           54       -25.5  \n",
       "1  66.4     4        39.0           13           16        10.9  \n",
       "2  64.6     2        91.8            2            6        21.6  \n",
       "\n",
       "[3 rows x 47 columns]"
      ]
     },
     "execution_count": 123,
     "metadata": {},
     "output_type": "execute_result"
    }
   ],
   "source": [
    "df = pd.read_csv('ShootingSplits_HeatCheckTour.csv')\n",
    "df = df.dropna(axis=1)\n",
    "print(df.shape)\n",
    "df.head(3)"
   ]
  },
  {
   "cell_type": "code",
   "execution_count": 109,
   "id": "de849290-e6fd-4085-b767-7469c992662a",
   "metadata": {},
   "outputs": [
    {
     "data": {
      "text/plain": [
       "array([ 1., 48., 64.])"
      ]
     },
     "execution_count": 109,
     "metadata": {},
     "output_type": "execute_result"
    }
   ],
   "source": [
    "[df['rating'], cutoffs] = pd.qcut(df.ROUND, 2, labels = ['B', 'G'], retbins = True)\n",
    "cutoffs"
   ]
  },
  {
   "cell_type": "code",
   "execution_count": 110,
   "id": "04974574-31b0-4731-aed6-652ba1f5ed84",
   "metadata": {},
   "outputs": [],
   "source": [
    "df_train = df[df['YEAR'] != 2024]\n",
    "df_test = df[df['YEAR'] == 2024]\n",
    "# X_train = df_train.drop(['Unnamed: 0','YEAR','TEAM NO','TEAM ID','TEAM','CONF','WINS','ROUND', 'POWER-PATH'],axis=1)\n",
    "X_train = df_train.drop(['rating', 'Unnamed: 0', 'YEAR', 'TEAM NO', 'TEAM ID', 'TEAM', 'CONF', 'SEED', 'ROUND', 'POWER', 'PATH', 'POOL VALUE', 'POOL S-RANK', 'NCAA S-RANK', 'POWER-PATH', 'WINS'], axis=1)\n",
    "\n",
    "# X_test = df_test.drop(['Unnamed: 0','YEAR','TEAM NO','TEAM ID','TEAM','CONF','WINS','ROUND', 'POWER-PATH'],axis=1)\n",
    "X_test = df_test.drop(['rating', 'Unnamed: 0', 'YEAR', 'TEAM NO', 'TEAM ID', 'TEAM', 'CONF', 'SEED', 'ROUND', 'POWER', 'PATH', 'POOL VALUE', 'POOL S-RANK', 'NCAA S-RANK', 'POWER-PATH', 'WINS'], axis=1)\n",
    "\n",
    "y_train = df_train.rating\n",
    "y_test = df_test.rating\n",
    "X_train = (X_train - X_train.mean())/X_train.std()\n",
    "X_test = (X_test - X_test.mean())/X_test.std()"
   ]
  },
  {
   "cell_type": "code",
   "execution_count": 111,
   "id": "33e8b15f-1f99-415a-85e5-f9a51afd055e",
   "metadata": {},
   "outputs": [
    {
     "data": {
      "text/plain": [
       "0.678125"
      ]
     },
     "execution_count": 111,
     "metadata": {},
     "output_type": "execute_result"
    }
   ],
   "source": [
    "lr = LogisticRegression(solver='lbfgs', max_iter=100000)\n",
    "lr.fit(X_train, y_train)\n",
    "lr.score(X_train, y_train)"
   ]
  },
  {
   "cell_type": "code",
   "execution_count": 128,
   "id": "7885bea9-ee07-444a-b66c-b9a4dd53b5b5",
   "metadata": {},
   "outputs": [
    {
     "data": {
      "text/plain": [
       "array([[-0.20560486,  0.10502379, -0.22955412, -0.60077382, -0.6936894 ,\n",
       "         0.38228487,  0.26766646, -0.27676916,  0.05584539, -0.01584699,\n",
       "        -0.42371018, -0.21308166, -0.09633385, -0.41481758,  0.20796272,\n",
       "         0.47866685, -0.22248071,  0.0839576 ,  0.18055715, -0.00495702,\n",
       "        -0.03138038,  0.35132007,  0.09088017,  0.2183551 ,  0.16350074,\n",
       "        -0.10422138,  0.60640816, -0.26673   ,  0.09596634, -0.4431521 ,\n",
       "         0.14886899, -0.62874396]])"
      ]
     },
     "execution_count": 128,
     "metadata": {},
     "output_type": "execute_result"
    }
   ],
   "source": [
    "lr.coef_"
   ]
  },
  {
   "cell_type": "code",
   "execution_count": 127,
   "id": "729f7d7a-e5cd-4dbf-98db-0851ad36259b",
   "metadata": {},
   "outputs": [
    {
     "ename": "ValueError",
     "evalue": "Cannot set a frame with no defined index and a value that cannot be converted to a Series",
     "output_type": "error",
     "traceback": [
      "\u001b[1;31m---------------------------------------------------------------------------\u001b[0m",
      "\u001b[1;31mValueError\u001b[0m                                Traceback (most recent call last)",
      "File \u001b[1;32m~\\AppData\\Local\\anaconda3\\Lib\\site-packages\\pandas\\core\\frame.py:4370\u001b[0m, in \u001b[0;36mDataFrame._ensure_valid_index\u001b[1;34m(self, value)\u001b[0m\n\u001b[0;32m   4369\u001b[0m \u001b[38;5;28;01mtry\u001b[39;00m:\n\u001b[1;32m-> 4370\u001b[0m     value \u001b[38;5;241m=\u001b[39m Series(value)\n\u001b[0;32m   4371\u001b[0m \u001b[38;5;28;01mexcept\u001b[39;00m (\u001b[38;5;167;01mValueError\u001b[39;00m, \u001b[38;5;167;01mNotImplementedError\u001b[39;00m, \u001b[38;5;167;01mTypeError\u001b[39;00m) \u001b[38;5;28;01mas\u001b[39;00m err:\n",
      "File \u001b[1;32m~\\AppData\\Local\\anaconda3\\Lib\\site-packages\\pandas\\core\\series.py:512\u001b[0m, in \u001b[0;36mSeries.__init__\u001b[1;34m(self, data, index, dtype, name, copy, fastpath)\u001b[0m\n\u001b[0;32m    511\u001b[0m \u001b[38;5;28;01melse\u001b[39;00m:\n\u001b[1;32m--> 512\u001b[0m     data \u001b[38;5;241m=\u001b[39m sanitize_array(data, index, dtype, copy)\n\u001b[0;32m    514\u001b[0m     manager \u001b[38;5;241m=\u001b[39m get_option(\u001b[38;5;124m\"\u001b[39m\u001b[38;5;124mmode.data_manager\u001b[39m\u001b[38;5;124m\"\u001b[39m)\n",
      "File \u001b[1;32m~\\AppData\\Local\\anaconda3\\Lib\\site-packages\\pandas\\core\\construction.py:658\u001b[0m, in \u001b[0;36msanitize_array\u001b[1;34m(data, index, dtype, copy, allow_2d)\u001b[0m\n\u001b[0;32m    656\u001b[0m             subarr \u001b[38;5;241m=\u001b[39m maybe_infer_to_datetimelike(subarr)\n\u001b[1;32m--> 658\u001b[0m subarr \u001b[38;5;241m=\u001b[39m _sanitize_ndim(subarr, data, dtype, index, allow_2d\u001b[38;5;241m=\u001b[39mallow_2d)\n\u001b[0;32m    660\u001b[0m \u001b[38;5;28;01mif\u001b[39;00m \u001b[38;5;28misinstance\u001b[39m(subarr, np\u001b[38;5;241m.\u001b[39mndarray):\n\u001b[0;32m    661\u001b[0m     \u001b[38;5;66;03m# at this point we should have dtype be None or subarr.dtype == dtype\u001b[39;00m\n",
      "File \u001b[1;32m~\\AppData\\Local\\anaconda3\\Lib\\site-packages\\pandas\\core\\construction.py:717\u001b[0m, in \u001b[0;36m_sanitize_ndim\u001b[1;34m(result, data, dtype, index, allow_2d)\u001b[0m\n\u001b[0;32m    716\u001b[0m         \u001b[38;5;28;01mreturn\u001b[39;00m result\n\u001b[1;32m--> 717\u001b[0m     \u001b[38;5;28;01mraise\u001b[39;00m \u001b[38;5;167;01mValueError\u001b[39;00m(\n\u001b[0;32m    718\u001b[0m         \u001b[38;5;124mf\u001b[39m\u001b[38;5;124m\"\u001b[39m\u001b[38;5;124mData must be 1-dimensional, got ndarray of shape \u001b[39m\u001b[38;5;132;01m{\u001b[39;00mdata\u001b[38;5;241m.\u001b[39mshape\u001b[38;5;132;01m}\u001b[39;00m\u001b[38;5;124m instead\u001b[39m\u001b[38;5;124m\"\u001b[39m\n\u001b[0;32m    719\u001b[0m     )\n\u001b[0;32m    720\u001b[0m \u001b[38;5;28;01mif\u001b[39;00m is_object_dtype(dtype) \u001b[38;5;129;01mand\u001b[39;00m \u001b[38;5;28misinstance\u001b[39m(dtype, ExtensionDtype):\n\u001b[0;32m    721\u001b[0m     \u001b[38;5;66;03m# i.e. NumpyEADtype(\"O\")\u001b[39;00m\n",
      "\u001b[1;31mValueError\u001b[0m: Data must be 1-dimensional, got ndarray of shape (1, 32) instead",
      "\nThe above exception was the direct cause of the following exception:\n",
      "\u001b[1;31mValueError\u001b[0m                                Traceback (most recent call last)",
      "\u001b[1;32m~\\AppData\\Local\\Temp\\ipykernel_23948\\1576764165.py\u001b[0m in \u001b[0;36m?\u001b[1;34m()\u001b[0m\n\u001b[0;32m      1\u001b[0m \u001b[0mcoef\u001b[0m \u001b[1;33m=\u001b[0m \u001b[0mpd\u001b[0m\u001b[1;33m.\u001b[0m\u001b[0mDataFrame\u001b[0m\u001b[1;33m(\u001b[0m\u001b[1;33m)\u001b[0m\u001b[1;33m\u001b[0m\u001b[1;33m\u001b[0m\u001b[0m\n\u001b[1;32m----> 2\u001b[1;33m \u001b[0mcoef\u001b[0m\u001b[1;33m[\u001b[0m\u001b[1;34m'coeffs'\u001b[0m\u001b[1;33m]\u001b[0m \u001b[1;33m=\u001b[0m \u001b[0mlr\u001b[0m\u001b[1;33m.\u001b[0m\u001b[0mcoef_\u001b[0m\u001b[1;33m\u001b[0m\u001b[1;33m\u001b[0m\u001b[0m\n\u001b[0m\u001b[0;32m      3\u001b[0m \u001b[0mcoef\u001b[0m\u001b[1;33m[\u001b[0m\u001b[1;34m'feature'\u001b[0m\u001b[1;33m]\u001b[0m \u001b[1;33m=\u001b[0m \u001b[0mX_test\u001b[0m\u001b[1;33m.\u001b[0m\u001b[0mcolumns\u001b[0m\u001b[1;33m\u001b[0m\u001b[1;33m\u001b[0m\u001b[0m\n",
      "\u001b[1;32m~\\AppData\\Local\\anaconda3\\Lib\\site-packages\\pandas\\core\\frame.py\u001b[0m in \u001b[0;36m?\u001b[1;34m(self, key, value)\u001b[0m\n\u001b[0;32m   4087\u001b[0m             \u001b[1;31m# Column to set is duplicated\u001b[0m\u001b[1;33m\u001b[0m\u001b[1;33m\u001b[0m\u001b[0m\n\u001b[0;32m   4088\u001b[0m             \u001b[0mself\u001b[0m\u001b[1;33m.\u001b[0m\u001b[0m_setitem_array\u001b[0m\u001b[1;33m(\u001b[0m\u001b[1;33m[\u001b[0m\u001b[0mkey\u001b[0m\u001b[1;33m]\u001b[0m\u001b[1;33m,\u001b[0m \u001b[0mvalue\u001b[0m\u001b[1;33m)\u001b[0m\u001b[1;33m\u001b[0m\u001b[1;33m\u001b[0m\u001b[0m\n\u001b[0;32m   4089\u001b[0m         \u001b[1;32melse\u001b[0m\u001b[1;33m:\u001b[0m\u001b[1;33m\u001b[0m\u001b[1;33m\u001b[0m\u001b[0m\n\u001b[0;32m   4090\u001b[0m             \u001b[1;31m# set column\u001b[0m\u001b[1;33m\u001b[0m\u001b[1;33m\u001b[0m\u001b[0m\n\u001b[1;32m-> 4091\u001b[1;33m             \u001b[0mself\u001b[0m\u001b[1;33m.\u001b[0m\u001b[0m_set_item\u001b[0m\u001b[1;33m(\u001b[0m\u001b[0mkey\u001b[0m\u001b[1;33m,\u001b[0m \u001b[0mvalue\u001b[0m\u001b[1;33m)\u001b[0m\u001b[1;33m\u001b[0m\u001b[1;33m\u001b[0m\u001b[0m\n\u001b[0m",
      "\u001b[1;32m~\\AppData\\Local\\anaconda3\\Lib\\site-packages\\pandas\\core\\frame.py\u001b[0m in \u001b[0;36m?\u001b[1;34m(self, key, value)\u001b[0m\n\u001b[0;32m   4296\u001b[0m \u001b[1;33m\u001b[0m\u001b[0m\n\u001b[0;32m   4297\u001b[0m         \u001b[0mSeries\u001b[0m\u001b[1;33m/\u001b[0m\u001b[0mTimeSeries\u001b[0m \u001b[0mwill\u001b[0m \u001b[0mbe\u001b[0m \u001b[0mconformed\u001b[0m \u001b[0mto\u001b[0m \u001b[0mthe\u001b[0m \u001b[0mDataFrames\u001b[0m \u001b[0mindex\u001b[0m \u001b[0mto\u001b[0m\u001b[1;33m\u001b[0m\u001b[1;33m\u001b[0m\u001b[0m\n\u001b[0;32m   4298\u001b[0m         \u001b[0mensure\u001b[0m \u001b[0mhomogeneity\u001b[0m\u001b[1;33m.\u001b[0m\u001b[1;33m\u001b[0m\u001b[1;33m\u001b[0m\u001b[0m\n\u001b[0;32m   4299\u001b[0m         \"\"\"\n\u001b[1;32m-> 4300\u001b[1;33m         \u001b[0mvalue\u001b[0m\u001b[1;33m,\u001b[0m \u001b[0mrefs\u001b[0m \u001b[1;33m=\u001b[0m \u001b[0mself\u001b[0m\u001b[1;33m.\u001b[0m\u001b[0m_sanitize_column\u001b[0m\u001b[1;33m(\u001b[0m\u001b[0mvalue\u001b[0m\u001b[1;33m)\u001b[0m\u001b[1;33m\u001b[0m\u001b[1;33m\u001b[0m\u001b[0m\n\u001b[0m\u001b[0;32m   4301\u001b[0m \u001b[1;33m\u001b[0m\u001b[0m\n\u001b[0;32m   4302\u001b[0m         if (\n\u001b[0;32m   4303\u001b[0m             \u001b[0mkey\u001b[0m \u001b[1;32min\u001b[0m \u001b[0mself\u001b[0m\u001b[1;33m.\u001b[0m\u001b[0mcolumns\u001b[0m\u001b[1;33m\u001b[0m\u001b[1;33m\u001b[0m\u001b[0m\n",
      "\u001b[1;32m~\\AppData\\Local\\anaconda3\\Lib\\site-packages\\pandas\\core\\frame.py\u001b[0m in \u001b[0;36m?\u001b[1;34m(self, value)\u001b[0m\n\u001b[0;32m   5025\u001b[0m         \u001b[0mReturns\u001b[0m\u001b[1;33m\u001b[0m\u001b[1;33m\u001b[0m\u001b[0m\n\u001b[0;32m   5026\u001b[0m         \u001b[1;33m-\u001b[0m\u001b[1;33m-\u001b[0m\u001b[1;33m-\u001b[0m\u001b[1;33m-\u001b[0m\u001b[1;33m-\u001b[0m\u001b[1;33m-\u001b[0m\u001b[1;33m-\u001b[0m\u001b[1;33m\u001b[0m\u001b[1;33m\u001b[0m\u001b[0m\n\u001b[0;32m   5027\u001b[0m         \u001b[0mtuple\u001b[0m \u001b[0mof\u001b[0m \u001b[0mnumpy\u001b[0m\u001b[1;33m.\u001b[0m\u001b[0mndarray\u001b[0m \u001b[1;32mor\u001b[0m \u001b[0mExtensionArray\u001b[0m \u001b[1;32mand\u001b[0m \u001b[0moptional\u001b[0m \u001b[0mBlockValuesRefs\u001b[0m\u001b[1;33m\u001b[0m\u001b[1;33m\u001b[0m\u001b[0m\n\u001b[0;32m   5028\u001b[0m         \"\"\"\n\u001b[1;32m-> 5029\u001b[1;33m         \u001b[0mself\u001b[0m\u001b[1;33m.\u001b[0m\u001b[0m_ensure_valid_index\u001b[0m\u001b[1;33m(\u001b[0m\u001b[0mvalue\u001b[0m\u001b[1;33m)\u001b[0m\u001b[1;33m\u001b[0m\u001b[1;33m\u001b[0m\u001b[0m\n\u001b[0m\u001b[0;32m   5030\u001b[0m \u001b[1;33m\u001b[0m\u001b[0m\n\u001b[0;32m   5031\u001b[0m         \u001b[1;31m# Using a DataFrame would mean coercing values to one dtype\u001b[0m\u001b[1;33m\u001b[0m\u001b[1;33m\u001b[0m\u001b[0m\n\u001b[0;32m   5032\u001b[0m         \u001b[1;32massert\u001b[0m \u001b[1;32mnot\u001b[0m \u001b[0misinstance\u001b[0m\u001b[1;33m(\u001b[0m\u001b[0mvalue\u001b[0m\u001b[1;33m,\u001b[0m \u001b[0mDataFrame\u001b[0m\u001b[1;33m)\u001b[0m\u001b[1;33m\u001b[0m\u001b[1;33m\u001b[0m\u001b[0m\n",
      "\u001b[1;32m~\\AppData\\Local\\anaconda3\\Lib\\site-packages\\pandas\\core\\frame.py\u001b[0m in \u001b[0;36m?\u001b[1;34m(self, value)\u001b[0m\n\u001b[0;32m   4368\u001b[0m             \u001b[1;32mif\u001b[0m \u001b[1;32mnot\u001b[0m \u001b[0misinstance\u001b[0m\u001b[1;33m(\u001b[0m\u001b[0mvalue\u001b[0m\u001b[1;33m,\u001b[0m \u001b[0mDataFrame\u001b[0m\u001b[1;33m)\u001b[0m\u001b[1;33m:\u001b[0m\u001b[1;33m\u001b[0m\u001b[1;33m\u001b[0m\u001b[0m\n\u001b[0;32m   4369\u001b[0m                 \u001b[1;32mtry\u001b[0m\u001b[1;33m:\u001b[0m\u001b[1;33m\u001b[0m\u001b[1;33m\u001b[0m\u001b[0m\n\u001b[0;32m   4370\u001b[0m                     \u001b[0mvalue\u001b[0m \u001b[1;33m=\u001b[0m \u001b[0mSeries\u001b[0m\u001b[1;33m(\u001b[0m\u001b[0mvalue\u001b[0m\u001b[1;33m)\u001b[0m\u001b[1;33m\u001b[0m\u001b[1;33m\u001b[0m\u001b[0m\n\u001b[0;32m   4371\u001b[0m                 \u001b[1;32mexcept\u001b[0m \u001b[1;33m(\u001b[0m\u001b[0mValueError\u001b[0m\u001b[1;33m,\u001b[0m \u001b[0mNotImplementedError\u001b[0m\u001b[1;33m,\u001b[0m \u001b[0mTypeError\u001b[0m\u001b[1;33m)\u001b[0m \u001b[1;32mas\u001b[0m \u001b[0merr\u001b[0m\u001b[1;33m:\u001b[0m\u001b[1;33m\u001b[0m\u001b[1;33m\u001b[0m\u001b[0m\n\u001b[1;32m-> 4372\u001b[1;33m                     raise ValueError(\n\u001b[0m\u001b[0;32m   4373\u001b[0m                         \u001b[1;34m\"Cannot set a frame with no defined index \"\u001b[0m\u001b[1;33m\u001b[0m\u001b[1;33m\u001b[0m\u001b[0m\n\u001b[0;32m   4374\u001b[0m                         \u001b[1;34m\"and a value that cannot be converted to a Series\"\u001b[0m\u001b[1;33m\u001b[0m\u001b[1;33m\u001b[0m\u001b[0m\n\u001b[0;32m   4375\u001b[0m                     ) from err\n",
      "\u001b[1;31mValueError\u001b[0m: Cannot set a frame with no defined index and a value that cannot be converted to a Series"
     ]
    }
   ],
   "source": [
    "coef = pd.DataFrame()\n",
    "coef['coeffs'] = lr.coef_\n",
    "coef['feature'] = X_test.columns"
   ]
  },
  {
   "cell_type": "code",
   "execution_count": 112,
   "id": "3905f200-0d66-4613-a966-ae3452c89549",
   "metadata": {},
   "outputs": [
    {
     "data": {
      "text/plain": [
       "0.671875"
      ]
     },
     "execution_count": 112,
     "metadata": {},
     "output_type": "execute_result"
    }
   ],
   "source": [
    "lr.score(X_test, y_test)"
   ]
  },
  {
   "cell_type": "code",
   "execution_count": 113,
   "id": "5352c635-0554-4224-8858-f25bc70566d4",
   "metadata": {},
   "outputs": [
    {
     "data": {
      "text/plain": [
       "Index(['Unnamed: 0', 'YEAR', 'TEAM NO', 'TEAM ID', 'TEAM', 'CONF', 'DUNKS FG%',\n",
       "       'DUNKS SHARE', 'DUNKS FG%D', 'DUNKS D SHARE', 'CLOSE TWOS FG%',\n",
       "       'CLOSE TWOS SHARE', 'CLOSE TWOS FG%D', 'CLOSE TWOS D SHARE',\n",
       "       'FARTHER TWOS FG%', 'FARTHER TWOS SHARE', 'FARTHER TWOS FG%D',\n",
       "       'FARTHER TWOS D SHARE', 'THREES FG%', 'THREES SHARE', 'THREES FG%D',\n",
       "       'THREES D SHARE', 'DUNKS FG% RANK', 'DUNKS SHARE RANK',\n",
       "       'DUNKS FG%D RANK', 'DUNKS D SHARE RANK', 'CLOSE TWOS FG% RANK',\n",
       "       'CLOSE TWOS SHARE RANK', 'CLOSE TWOS FG%D RANK',\n",
       "       'CLOSE TWOS D SHARE RANK', 'FARTHER TWOS FG% RANK',\n",
       "       'FARTHER TWOS SHARE RANK', 'FARTHER TWOS FG%D RANK',\n",
       "       'FARTHER TWOS D SHARE RANK', 'THREES FG% RANK', 'THREES SHARE RANK',\n",
       "       'THREES FG%D RANK', 'THREES D SHARE RANK', 'SEED', 'ROUND', 'POWER',\n",
       "       'PATH', 'WINS', 'POOL VALUE', 'POOL S-RANK', 'NCAA S-RANK',\n",
       "       'POWER-PATH', 'rating'],\n",
       "      dtype='object')"
      ]
     },
     "execution_count": 113,
     "metadata": {},
     "output_type": "execute_result"
    }
   ],
   "source": [
    "df.columns"
   ]
  },
  {
   "cell_type": "code",
   "execution_count": 115,
   "id": "1e18e8e1-d7f8-4636-98b5-e092e4357781",
   "metadata": {},
   "outputs": [
    {
     "name": "stdout",
     "output_type": "stream",
     "text": [
      "best tree depth = {'max_depth': 1}   valid error rate = 0.364\n"
     ]
    }
   ],
   "source": [
    "grid = {'max_depth':np.arange(1,10)}\n",
    "dtree = DecisionTreeClassifier()\n",
    "treeCV = GridSearchCV(dtree,param_grid=grid,return_train_score=True)\n",
    "treeCV.fit(X_train,y_train)\n",
    "print('best tree depth =',treeCV.best_params_, '  valid error rate =', (1 - treeCV.best_score_).round(3))"
   ]
  },
  {
   "cell_type": "code",
   "execution_count": 116,
   "id": "752e2a8f-55a1-4218-8b82-7257593b0082",
   "metadata": {},
   "outputs": [
    {
     "data": {
      "text/plain": [
       "<Axes: xlabel='depth'>"
      ]
     },
     "execution_count": 116,
     "metadata": {},
     "output_type": "execute_result"
    },
    {
     "data": {
      "image/png": "[encoded data removed]",
      "text/plain": [
       "<Figure size 640x480 with 1 Axes>"
      ]
     },
     "metadata": {},
     "output_type": "display_data"
    }
   ],
   "source": [
    "results = pd.DataFrame()\n",
    "results['depth'] = grid['max_depth']\n",
    "results['train error'] =1 - treeCV.cv_results_['mean_train_score']\n",
    "results['valid error']  = 1 - treeCV.cv_results_['mean_test_score']\n",
    "ax1 = results.plot.line(x='depth',y='train error')\n",
    "results.plot.line(x='depth',y='valid error',ax=ax1)"
   ]
  },
  {
   "cell_type": "code",
   "execution_count": 118,
   "id": "0d23f474-7592-4e93-b4ca-035718753d9a",
   "metadata": {},
   "outputs": [
    {
     "data": {
      "text/plain": [
       "0.6390625"
      ]
     },
     "execution_count": 118,
     "metadata": {},
     "output_type": "execute_result"
    }
   ],
   "source": [
    "dtree = DecisionTreeClassifier(max_depth = 2)\n",
    "dtree.fit(X_train, y_train)\n",
    "dtree.score(X_train,y_train)"
   ]
  },
  {
   "cell_type": "code",
   "execution_count": 119,
   "id": "6eced754-3335-4f72-8e30-c51abc334f55",
   "metadata": {},
   "outputs": [
    {
     "name": "stdout",
     "output_type": "stream",
     "text": [
      "|----- CLOSE TWOS FG% RANK <= -0.8\n",
      "|     |----- CLOSE TWOS FG%D RANK <= 1.3\n",
      "|     |     |----- class: B\n",
      "|     |----- CLOSE TWOS FG%D RANK >  1.3\n",
      "|     |     |----- class: B\n",
      "|----- CLOSE TWOS FG% RANK >  -0.8\n",
      "|     |----- CLOSE TWOS FG% <= -0.8\n",
      "|     |     |----- class: G\n",
      "|     |----- CLOSE TWOS FG% >  -0.8\n",
      "|     |     |----- class: G\n",
      "\n"
     ]
    }
   ],
   "source": [
    "dtree_string = export_text(dtree,feature_names = list(X_train.columns),decimals = 1, spacing = 5)\n",
    "print(dtree_string)"
   ]
  },
  {
   "cell_type": "code",
   "execution_count": 120,
   "id": "082efe65-698e-4c0a-98bb-1f00c9c03430",
   "metadata": {},
   "outputs": [
    {
     "name": "stdout",
     "output_type": "stream",
     "text": [
      "validation accuracy rate 0.625\n"
     ]
    }
   ],
   "source": [
    "cv_results = cross_validate(dtree,X_train,y_train)\n",
    "acc_valid = cv_results['test_score'].mean()\n",
    "print('validation accuracy rate',acc_valid)"
   ]
  },
  {
   "cell_type": "code",
   "execution_count": 79,
   "id": "837b3345-a4d6-4511-a6f7-0c51f435940a",
   "metadata": {},
   "outputs": [
    {
     "data": {
      "text/plain": [
       "0.4601728985099913"
      ]
     },
     "execution_count": 79,
     "metadata": {},
     "output_type": "execute_result"
    }
   ],
   "source": [
    "dtree.score(X_test,y_test)"
   ]
  },
  {
   "cell_type": "code",
   "execution_count": 37,
   "id": "55396650-332b-42b6-9681-e598765393de",
   "metadata": {},
   "outputs": [
    {
     "data": {
      "text/plain": [
       "Index(['Unnamed: 0', 'YEAR', 'TEAM NO', 'TEAM ID', 'TEAM', 'CONF', 'DUNKS FG%',\n",
       "       'DUNKS SHARE', 'DUNKS FG%D', 'DUNKS D SHARE', 'CLOSE TWOS FG%',\n",
       "       'CLOSE TWOS SHARE', 'CLOSE TWOS FG%D', 'CLOSE TWOS D SHARE',\n",
       "       'FARTHER TWOS FG%', 'FARTHER TWOS SHARE', 'FARTHER TWOS FG%D',\n",
       "       'FARTHER TWOS D SHARE', 'THREES FG%', 'THREES SHARE', 'THREES FG%D',\n",
       "       'THREES D SHARE', 'DUNKS FG% RANK', 'DUNKS SHARE RANK',\n",
       "       'DUNKS FG%D RANK', 'DUNKS D SHARE RANK', 'CLOSE TWOS FG% RANK',\n",
       "       'CLOSE TWOS SHARE RANK', 'CLOSE TWOS FG%D RANK',\n",
       "       'CLOSE TWOS D SHARE RANK', 'FARTHER TWOS FG% RANK',\n",
       "       'FARTHER TWOS SHARE RANK', 'FARTHER TWOS FG%D RANK',\n",
       "       'FARTHER TWOS D SHARE RANK', 'THREES FG% RANK', 'THREES SHARE RANK',\n",
       "       'THREES FG%D RANK', 'THREES D SHARE RANK', 'SEED', 'ROUND', 'POWER',\n",
       "       'PATH', 'WINS', 'POOL VALUE', 'POOL S-RANK', 'NCAA S-RANK',\n",
       "       'POWER-PATH', 'rating'],\n",
       "      dtype='object')"
      ]
     },
     "execution_count": 37,
     "metadata": {},
     "output_type": "execute_result"
    }
   ],
   "source": [
    "df.columns"
   ]
  },
  {
   "cell_type": "code",
   "execution_count": 42,
   "id": "79ea6b8a-73d3-44ac-8d6b-7059e00061ef",
   "metadata": {},
   "outputs": [
    {
     "data": {
      "text/plain": [
       "0       2.0\n",
       "1      39.0\n",
       "2      91.8\n",
       "3      49.6\n",
       "4      51.5\n",
       "       ... \n",
       "699     7.8\n",
       "700     3.0\n",
       "701     0.9\n",
       "702     5.7\n",
       "703    30.5\n",
       "Name: POOL VALUE, Length: 704, dtype: float64"
      ]
     },
     "execution_count": 42,
     "metadata": {},
     "output_type": "execute_result"
    }
   ],
   "source": [
    "df['POOL VALUE']"
   ]
  },
  {
   "cell_type": "code",
   "execution_count": 81,
   "id": "80f56167-2368-4934-9b2b-b80fcfce458c",
   "metadata": {},
   "outputs": [
    {
     "data": {
      "text/plain": [
       "Index(['Unnamed: 0', 'YEAR', 'TEAM NO', 'TEAM ID', 'TEAM', 'CONF', 'DUNKS FG%',\n",
       "       'DUNKS SHARE', 'DUNKS FG%D', 'DUNKS D SHARE', 'CLOSE TWOS FG%',\n",
       "       'CLOSE TWOS SHARE', 'CLOSE TWOS FG%D', 'CLOSE TWOS D SHARE',\n",
       "       'FARTHER TWOS FG%', 'FARTHER TWOS SHARE', 'FARTHER TWOS FG%D',\n",
       "       'FARTHER TWOS D SHARE', 'THREES FG%', 'THREES SHARE', 'THREES FG%D',\n",
       "       'THREES D SHARE', 'DUNKS FG% RANK', 'DUNKS SHARE RANK',\n",
       "       'DUNKS FG%D RANK', 'DUNKS D SHARE RANK', 'CLOSE TWOS FG% RANK',\n",
       "       'CLOSE TWOS SHARE RANK', 'CLOSE TWOS FG%D RANK',\n",
       "       'CLOSE TWOS D SHARE RANK', 'FARTHER TWOS FG% RANK',\n",
       "       'FARTHER TWOS SHARE RANK', 'FARTHER TWOS FG%D RANK',\n",
       "       'FARTHER TWOS D SHARE RANK', 'THREES FG% RANK', 'THREES SHARE RANK',\n",
       "       'THREES FG%D RANK', 'THREES D SHARE RANK', 'SEED', 'ROUND', 'POWER',\n",
       "       'PATH', 'WINS', 'POOL VALUE', 'POOL S-RANK', 'NCAA S-RANK',\n",
       "       'POWER-PATH'],\n",
       "      dtype='object')"
      ]
     },
     "execution_count": 81,
     "metadata": {},
     "output_type": "execute_result"
    }
   ],
   "source": [
    "df.columns"
   ]
  },
  {
   "cell_type": "code",
   "execution_count": null,
   "id": "8a78a450-6c0b-4ad9-99e8-df33fd6a446d",
   "metadata": {},
   "outputs": [],
   "source": [
    "df.drop['Unnamed: 0', 'YEAR', 'TEAM NO', 'TEAM ID', 'TEAM', 'CONF', 'SEED', 'ROUND', 'POWER', 'PATH', 'POOL VALUE', 'POOL S-RANK', 'NCAA S-RANK', 'POWER-PATH']"
   ]
  }
 ],
 "metadata": {
  "kernelspec": {
   "display_name": "Python 3 (ipykernel)",
   "language": "python",
   "name": "python3"
  },
  "language_info": {
   "codemirror_mode": {
    "name": "ipython",
    "version": 3
   },
   "file_extension": ".py",
   "mimetype": "text/x-python",
   "name": "python",
   "nbconvert_exporter": "python",
   "pygments_lexer": "ipython3",
   "version": "3.11.7"
  }
 },
 "nbformat": 4,
 "nbformat_minor": 5
}
