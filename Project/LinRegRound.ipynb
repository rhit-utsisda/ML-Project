{
 "cells": [
  {
   "cell_type": "code",
   "execution_count": 2,
   "metadata": {},
   "outputs": [
    {
     "name": "stderr",
     "output_type": "stream",
     "text": [
      "/usr/lib/python3/dist-packages/scipy/__init__.py:146: UserWarning: A NumPy version >=1.17.3 and <1.25.0 is required for this version of SciPy (detected version 1.26.4\n",
      "  warnings.warn(f\"A NumPy version >={np_minversion} and <{np_maxversion}\"\n"
     ]
    }
   ],
   "source": [
    "import pandas as pd\n",
    "import numpy as np\n",
    "import matplotlib.pyplot as plt\n",
    "from sklearn.linear_model import LinearRegression\n",
    "from sklearn.model_selection import train_test_split"
   ]
  },
  {
   "cell_type": "code",
   "execution_count": 3,
   "metadata": {},
   "outputs": [
    {
     "data": {
      "text/html": [
       "<div>\n",
       "<style scoped>\n",
       "    .dataframe tbody tr th:only-of-type {\n",
       "        vertical-align: middle;\n",
       "    }\n",
       "\n",
       "    .dataframe tbody tr th {\n",
       "        vertical-align: top;\n",
       "    }\n",
       "\n",
       "    .dataframe thead th {\n",
       "        text-align: right;\n",
       "    }\n",
       "</style>\n",
       "<table border=\"1\" class=\"dataframe\">\n",
       "  <thead>\n",
       "    <tr style=\"text-align: right;\">\n",
       "      <th></th>\n",
       "      <th>YEAR</th>\n",
       "      <th>CONF</th>\n",
       "      <th>CONF ID</th>\n",
       "      <th>QUAD NO</th>\n",
       "      <th>QUAD ID</th>\n",
       "      <th>TEAM NO</th>\n",
       "      <th>TEAM ID</th>\n",
       "      <th>TEAM</th>\n",
       "      <th>SEED</th>\n",
       "      <th>ROUND</th>\n",
       "      <th>...</th>\n",
       "      <th>BADJT RANK</th>\n",
       "      <th>AVG HGT RANK</th>\n",
       "      <th>EFF HGT RANK</th>\n",
       "      <th>EXP RANK</th>\n",
       "      <th>TALENT RANK</th>\n",
       "      <th>FT% RANK</th>\n",
       "      <th>OP FT% RANK</th>\n",
       "      <th>PPPO RANK</th>\n",
       "      <th>PPPD RANK</th>\n",
       "      <th>ELITE SOS RANK</th>\n",
       "    </tr>\n",
       "  </thead>\n",
       "  <tbody>\n",
       "    <tr>\n",
       "      <th>0</th>\n",
       "      <td>2024</td>\n",
       "      <td>MAC</td>\n",
       "      <td>17</td>\n",
       "      <td>61</td>\n",
       "      <td>1</td>\n",
       "      <td>1079</td>\n",
       "      <td>2</td>\n",
       "      <td>Akron</td>\n",
       "      <td>14</td>\n",
       "      <td>64</td>\n",
       "      <td>...</td>\n",
       "      <td>276</td>\n",
       "      <td>238</td>\n",
       "      <td>199</td>\n",
       "      <td>19</td>\n",
       "      <td>176</td>\n",
       "      <td>164</td>\n",
       "      <td>47</td>\n",
       "      <td>122</td>\n",
       "      <td>51</td>\n",
       "      <td>249</td>\n",
       "    </tr>\n",
       "    <tr>\n",
       "      <th>1</th>\n",
       "      <td>2024</td>\n",
       "      <td>SEC</td>\n",
       "      <td>28</td>\n",
       "      <td>63</td>\n",
       "      <td>3</td>\n",
       "      <td>1078</td>\n",
       "      <td>3</td>\n",
       "      <td>Alabama</td>\n",
       "      <td>4</td>\n",
       "      <td>4</td>\n",
       "      <td>...</td>\n",
       "      <td>13</td>\n",
       "      <td>33</td>\n",
       "      <td>8</td>\n",
       "      <td>156</td>\n",
       "      <td>106</td>\n",
       "      <td>10</td>\n",
       "      <td>314</td>\n",
       "      <td>2</td>\n",
       "      <td>263</td>\n",
       "      <td>7</td>\n",
       "    </tr>\n",
       "    <tr>\n",
       "      <th>2</th>\n",
       "      <td>2024</td>\n",
       "      <td>P12</td>\n",
       "      <td>24</td>\n",
       "      <td>63</td>\n",
       "      <td>3</td>\n",
       "      <td>1077</td>\n",
       "      <td>8</td>\n",
       "      <td>Arizona</td>\n",
       "      <td>2</td>\n",
       "      <td>16</td>\n",
       "      <td>...</td>\n",
       "      <td>16</td>\n",
       "      <td>50</td>\n",
       "      <td>37</td>\n",
       "      <td>196</td>\n",
       "      <td>7</td>\n",
       "      <td>195</td>\n",
       "      <td>134</td>\n",
       "      <td>8</td>\n",
       "      <td>14</td>\n",
       "      <td>47</td>\n",
       "    </tr>\n",
       "    <tr>\n",
       "      <th>3</th>\n",
       "      <td>2024</td>\n",
       "      <td>SEC</td>\n",
       "      <td>28</td>\n",
       "      <td>64</td>\n",
       "      <td>4</td>\n",
       "      <td>1076</td>\n",
       "      <td>12</td>\n",
       "      <td>Auburn</td>\n",
       "      <td>4</td>\n",
       "      <td>64</td>\n",
       "      <td>...</td>\n",
       "      <td>58</td>\n",
       "      <td>86</td>\n",
       "      <td>76</td>\n",
       "      <td>127</td>\n",
       "      <td>69</td>\n",
       "      <td>59</td>\n",
       "      <td>284</td>\n",
       "      <td>12</td>\n",
       "      <td>8</td>\n",
       "      <td>69</td>\n",
       "    </tr>\n",
       "    <tr>\n",
       "      <th>4</th>\n",
       "      <td>2024</td>\n",
       "      <td>B12</td>\n",
       "      <td>7</td>\n",
       "      <td>63</td>\n",
       "      <td>3</td>\n",
       "      <td>1075</td>\n",
       "      <td>14</td>\n",
       "      <td>Baylor</td>\n",
       "      <td>3</td>\n",
       "      <td>32</td>\n",
       "      <td>...</td>\n",
       "      <td>274</td>\n",
       "      <td>31</td>\n",
       "      <td>22</td>\n",
       "      <td>304</td>\n",
       "      <td>34</td>\n",
       "      <td>97</td>\n",
       "      <td>254</td>\n",
       "      <td>15</td>\n",
       "      <td>155</td>\n",
       "      <td>1</td>\n",
       "    </tr>\n",
       "    <tr>\n",
       "      <th>...</th>\n",
       "      <td>...</td>\n",
       "      <td>...</td>\n",
       "      <td>...</td>\n",
       "      <td>...</td>\n",
       "      <td>...</td>\n",
       "      <td>...</td>\n",
       "      <td>...</td>\n",
       "      <td>...</td>\n",
       "      <td>...</td>\n",
       "      <td>...</td>\n",
       "      <td>...</td>\n",
       "      <td>...</td>\n",
       "      <td>...</td>\n",
       "      <td>...</td>\n",
       "      <td>...</td>\n",
       "      <td>...</td>\n",
       "      <td>...</td>\n",
       "      <td>...</td>\n",
       "      <td>...</td>\n",
       "      <td>...</td>\n",
       "      <td>...</td>\n",
       "    </tr>\n",
       "    <tr>\n",
       "      <th>1074</th>\n",
       "      <td>2008</td>\n",
       "      <td>BE</td>\n",
       "      <td>8</td>\n",
       "      <td>1</td>\n",
       "      <td>1</td>\n",
       "      <td>5</td>\n",
       "      <td>235</td>\n",
       "      <td>West Virginia</td>\n",
       "      <td>7</td>\n",
       "      <td>16</td>\n",
       "      <td>...</td>\n",
       "      <td>225</td>\n",
       "      <td>18</td>\n",
       "      <td>115</td>\n",
       "      <td>181</td>\n",
       "      <td>61</td>\n",
       "      <td>209</td>\n",
       "      <td>16</td>\n",
       "      <td>22</td>\n",
       "      <td>32</td>\n",
       "      <td>49</td>\n",
       "    </tr>\n",
       "    <tr>\n",
       "      <th>1075</th>\n",
       "      <td>2008</td>\n",
       "      <td>SB</td>\n",
       "      <td>26</td>\n",
       "      <td>1</td>\n",
       "      <td>1</td>\n",
       "      <td>4</td>\n",
       "      <td>236</td>\n",
       "      <td>Western Kentucky</td>\n",
       "      <td>12</td>\n",
       "      <td>16</td>\n",
       "      <td>...</td>\n",
       "      <td>111</td>\n",
       "      <td>160</td>\n",
       "      <td>179</td>\n",
       "      <td>55</td>\n",
       "      <td>131</td>\n",
       "      <td>127</td>\n",
       "      <td>214</td>\n",
       "      <td>27</td>\n",
       "      <td>28</td>\n",
       "      <td>203</td>\n",
       "    </tr>\n",
       "    <tr>\n",
       "      <th>1076</th>\n",
       "      <td>2008</td>\n",
       "      <td>BSth</td>\n",
       "      <td>10</td>\n",
       "      <td>4</td>\n",
       "      <td>4</td>\n",
       "      <td>3</td>\n",
       "      <td>239</td>\n",
       "      <td>Winthrop</td>\n",
       "      <td>13</td>\n",
       "      <td>64</td>\n",
       "      <td>...</td>\n",
       "      <td>301</td>\n",
       "      <td>231</td>\n",
       "      <td>206</td>\n",
       "      <td>89</td>\n",
       "      <td>236</td>\n",
       "      <td>339</td>\n",
       "      <td>190</td>\n",
       "      <td>170</td>\n",
       "      <td>12</td>\n",
       "      <td>179</td>\n",
       "    </tr>\n",
       "    <tr>\n",
       "      <th>1077</th>\n",
       "      <td>2008</td>\n",
       "      <td>B10</td>\n",
       "      <td>6</td>\n",
       "      <td>3</td>\n",
       "      <td>3</td>\n",
       "      <td>2</td>\n",
       "      <td>240</td>\n",
       "      <td>Wisconsin</td>\n",
       "      <td>3</td>\n",
       "      <td>16</td>\n",
       "      <td>...</td>\n",
       "      <td>301</td>\n",
       "      <td>51</td>\n",
       "      <td>35</td>\n",
       "      <td>98</td>\n",
       "      <td>12</td>\n",
       "      <td>118</td>\n",
       "      <td>117</td>\n",
       "      <td>60</td>\n",
       "      <td>2</td>\n",
       "      <td>57</td>\n",
       "    </tr>\n",
       "    <tr>\n",
       "      <th>1078</th>\n",
       "      <td>2008</td>\n",
       "      <td>A10</td>\n",
       "      <td>1</td>\n",
       "      <td>1</td>\n",
       "      <td>1</td>\n",
       "      <td>1</td>\n",
       "      <td>244</td>\n",
       "      <td>Xavier</td>\n",
       "      <td>3</td>\n",
       "      <td>8</td>\n",
       "      <td>...</td>\n",
       "      <td>225</td>\n",
       "      <td>149</td>\n",
       "      <td>92</td>\n",
       "      <td>63</td>\n",
       "      <td>147</td>\n",
       "      <td>20</td>\n",
       "      <td>86</td>\n",
       "      <td>4</td>\n",
       "      <td>44</td>\n",
       "      <td>85</td>\n",
       "    </tr>\n",
       "  </tbody>\n",
       "</table>\n",
       "<p>1079 rows × 103 columns</p>\n",
       "</div>"
      ],
      "text/plain": [
       "      YEAR  CONF  CONF ID  QUAD NO  QUAD ID  TEAM NO  TEAM ID  \\\n",
       "0     2024   MAC       17       61        1     1079        2   \n",
       "1     2024   SEC       28       63        3     1078        3   \n",
       "2     2024   P12       24       63        3     1077        8   \n",
       "3     2024   SEC       28       64        4     1076       12   \n",
       "4     2024   B12        7       63        3     1075       14   \n",
       "...    ...   ...      ...      ...      ...      ...      ...   \n",
       "1074  2008    BE        8        1        1        5      235   \n",
       "1075  2008    SB       26        1        1        4      236   \n",
       "1076  2008  BSth       10        4        4        3      239   \n",
       "1077  2008   B10        6        3        3        2      240   \n",
       "1078  2008   A10        1        1        1        1      244   \n",
       "\n",
       "                  TEAM  SEED  ROUND  ...  BADJT RANK  AVG HGT RANK  \\\n",
       "0                Akron    14     64  ...         276           238   \n",
       "1              Alabama     4      4  ...          13            33   \n",
       "2              Arizona     2     16  ...          16            50   \n",
       "3               Auburn     4     64  ...          58            86   \n",
       "4               Baylor     3     32  ...         274            31   \n",
       "...                ...   ...    ...  ...         ...           ...   \n",
       "1074     West Virginia     7     16  ...         225            18   \n",
       "1075  Western Kentucky    12     16  ...         111           160   \n",
       "1076          Winthrop    13     64  ...         301           231   \n",
       "1077         Wisconsin     3     16  ...         301            51   \n",
       "1078            Xavier     3      8  ...         225           149   \n",
       "\n",
       "      EFF HGT RANK  EXP RANK  TALENT RANK  FT% RANK  OP FT% RANK  PPPO RANK  \\\n",
       "0              199        19          176       164           47        122   \n",
       "1                8       156          106        10          314          2   \n",
       "2               37       196            7       195          134          8   \n",
       "3               76       127           69        59          284         12   \n",
       "4               22       304           34        97          254         15   \n",
       "...            ...       ...          ...       ...          ...        ...   \n",
       "1074           115       181           61       209           16         22   \n",
       "1075           179        55          131       127          214         27   \n",
       "1076           206        89          236       339          190        170   \n",
       "1077            35        98           12       118          117         60   \n",
       "1078            92        63          147        20           86          4   \n",
       "\n",
       "      PPPD RANK  ELITE SOS RANK  \n",
       "0            51             249  \n",
       "1           263               7  \n",
       "2            14              47  \n",
       "3             8              69  \n",
       "4           155               1  \n",
       "...         ...             ...  \n",
       "1074         32              49  \n",
       "1075         28             203  \n",
       "1076         12             179  \n",
       "1077          2              57  \n",
       "1078         44              85  \n",
       "\n",
       "[1079 rows x 103 columns]"
      ]
     },
     "execution_count": 3,
     "metadata": {},
     "output_type": "execute_result"
    }
   ],
   "source": [
    "df = pd.read_csv(\"Datasets/KenPom Barttorvik.csv\")\n",
    "df"
   ]
  },
  {
   "cell_type": "code",
   "execution_count": 8,
   "metadata": {},
   "outputs": [],
   "source": [
    "df_train = df[df['YEAR'] != 2024]\n",
    "df_test = df[df['YEAR'] == 2024]"
   ]
  },
  {
   "cell_type": "code",
   "execution_count": 19,
   "metadata": {},
   "outputs": [],
   "source": [
    "# split into into training and testing set\n",
    "X_train = df_train.drop(['TEAM', 'WIN%', 'CONF','CONF ID','QUAD NO', 'QUAD ID','TEAM NO','TEAM ID','ROUND','YEAR','GAMES','W','L','ROUND'], axis=1)\n",
    "y_train = df_train['ROUND']\n",
    "X_test = df_test.drop(['TEAM', 'WIN%', 'CONF','CONF ID','QUAD NO', 'QUAD ID','TEAM NO','TEAM ID','ROUND','YEAR','GAMES','W','L','ROUND'], axis=1)  \n",
    "y_test = df_test['ROUND']"
   ]
  },
  {
   "cell_type": "code",
   "execution_count": 20,
   "metadata": {},
   "outputs": [
    {
     "data": {
      "text/plain": [
       "Index(['SEED', 'K TEMPO', 'K TEMPO RANK', 'KADJ T', 'KADJ T RANK', 'K OFF',\n",
       "       'KO RANK', 'KADJ O', 'KADJ O RANK', 'K DEF', 'KD RANK', 'KADJ D',\n",
       "       'KADJ D RANK', 'KADJ EM', 'KADJ EM RANK', 'BADJ EM', 'BADJ O', 'BADJ D',\n",
       "       'BARTHAG', 'EFG%', 'EFG%D', 'FTR', 'FTRD', 'TOV%', 'TOV%D', 'OREB%',\n",
       "       'DREB%', 'OP OREB%', 'OP DREB%', 'RAW T', '2PT%', '2PT%D', '3PT%',\n",
       "       '3PT%D', 'BLK%', 'BLKED%', 'AST%', 'OP AST%', '2PTR', '3PTR', '2PTRD',\n",
       "       '3PTRD', 'BADJ T', 'AVG HGT', 'EFF HGT', 'EXP', 'TALENT', 'FT%',\n",
       "       'OP FT%', 'PPPO', 'PPPD', 'ELITE SOS', 'WAB', 'BADJ EM RANK',\n",
       "       'BADJ O RANK', 'BADJ D RANK', 'BARTHAG RANK', 'EFG% RANK', 'EFGD% RANK',\n",
       "       'FTR RANK', 'FTRD RANK', 'TOV% RANK', 'TOV%D RANK', 'OREB% RANK',\n",
       "       'DREB% RANK', 'OP OREB% RANK', 'OP DREB% RANK', 'RAW T RANK',\n",
       "       '2PT% RANK', '2PT%D RANK', '3PT% RANK', '3PT%D RANK', 'BLK% RANK',\n",
       "       'BLKED% RANK', 'AST% RANK', 'OP AST% RANK', '2PTR RANK', '3PTR RANK',\n",
       "       '2PTRD RANK', '3PTRD RANK', 'BADJT RANK', 'AVG HGT RANK',\n",
       "       'EFF HGT RANK', 'EXP RANK', 'TALENT RANK', 'FT% RANK', 'OP FT% RANK',\n",
       "       'PPPO RANK', 'PPPD RANK', 'ELITE SOS RANK'],\n",
       "      dtype='object')"
      ]
     },
     "execution_count": 20,
     "metadata": {},
     "output_type": "execute_result"
    }
   ],
   "source": [
    "X_train.columns"
   ]
  },
  {
   "cell_type": "code",
   "execution_count": 21,
   "metadata": {},
   "outputs": [
    {
     "name": "stdout",
     "output_type": "stream",
     "text": [
      "Train R^2 score: 0.44960242655140314\n",
      "Test R^2 score: 0.3964674896413657\n"
     ]
    }
   ],
   "source": [
    "# Fit \n",
    "model = LinearRegression()\n",
    "model.fit(X_train, y_train)\n",
    "R2train = model.score(X_train, y_train)\n",
    "print(\"Train R^2 score:\", R2train)\n",
    "# Score\n",
    "R2 = model.score(X_test, y_test)\n",
    "print(\"Test R^2 score:\", R2)\n"
   ]
  },
  {
   "cell_type": "code",
   "execution_count": 22,
   "metadata": {},
   "outputs": [
    {
     "data": {
      "text/plain": [
       "KADJ O     1222.880959\n",
       "BARTHAG      79.830392\n",
       "K TEMPO      12.740912\n",
       "EXP          11.902433\n",
       "EFG%D         4.704688\n",
       "              ...     \n",
       "RAW T       -12.019290\n",
       "PPPO       -338.991553\n",
       "PPPD       -424.369176\n",
       "KADJ EM   -1222.761057\n",
       "KADJ D    -1224.421428\n",
       "Length: 90, dtype: float64"
      ]
     },
     "execution_count": 22,
     "metadata": {},
     "output_type": "execute_result"
    }
   ],
   "source": [
    "coefs = pd.Series(model.coef_, X.columns)\n",
    "coefs.sort_values(ascending=False)"
   ]
  },
  {
   "cell_type": "code",
   "execution_count": 26,
   "metadata": {},
   "outputs": [
    {
     "name": "stdout",
     "output_type": "stream",
     "text": [
      "1 68\n"
     ]
    }
   ],
   "source": [
    "print(df_train['ROUND'].min(),df_train['ROUND'].max())"
   ]
  },
  {
   "cell_type": "code",
   "execution_count": 28,
   "metadata": {},
   "outputs": [],
   "source": [
    "# y and yh are 2 numpy arrays.\n",
    "def MAE(y,yh):\n",
    "    # TODO: Complete this, replacing the \"pass\" placeholder.\n",
    "    return (1/len(y))*(abs(y-yh).sum())\n",
    "    \n",
    "\n",
    "def MSE(y,yh):\n",
    "    # TODO: Complete this.\n",
    "    return (1/len(y))*((y-yh)**2).sum()"
   ]
  },
  {
   "cell_type": "code",
   "execution_count": 27,
   "metadata": {},
   "outputs": [],
   "source": [
    "# Return yh, which is a np.array of length n, taken directly from the definition of SimpleBiasRegressor.\n",
    "def SimpleBiasRegressor(b,n):\n",
    "    return np.ones(n)*b # TODO: replace this."
   ]
  },
  {
   "cell_type": "code",
   "execution_count": 30,
   "metadata": {},
   "outputs": [
    {
     "data": {
      "text/plain": [
       "Text(0, 0.5, 'B vs. MSE and MAE')"
      ]
     },
     "execution_count": 30,
     "metadata": {},
     "output_type": "execute_result"
    },
    {
     "data": {
      "image/png": "[encoded data removed]",
      "text/plain": [
       "<Figure size 640x480 with 1 Axes>"
      ]
     },
     "metadata": {},
     "output_type": "display_data"
    }
   ],
   "source": [
    "y = df.ROUND\n",
    "\n",
    "B = np.linspace(y.min(), y.max(), num = 10000)\n",
    "mae = []\n",
    "mse = []\n",
    "for bias in B:\n",
    "    mae.append(MAE(y, SimpleBiasRegressor(bias, len(y))))\n",
    "    mse.append(MSE(y, SimpleBiasRegressor(bias, len(y))))\n",
    "\n",
    "results = pd.DataFrame()\n",
    "results['b'] = B\n",
    "results['MAE'] = mae\n",
    "results['MSE'] = mse\n",
    "\n",
    "# TODO: plot the results\n",
    "ax1 = results.plot.line(x='b',y='MAE')\n",
    "results.plot.line(x='b',y='MSE',ax=ax1)\n",
    "plt.ylabel('B vs. MSE and MAE')"
   ]
  },
  {
   "cell_type": "code",
   "execution_count": 31,
   "metadata": {},
   "outputs": [
    {
     "data": {
      "text/plain": [
       "b       63.999700\n",
       "MAE     20.444872\n",
       "MSE    925.704381\n",
       "Name: 9402, dtype: float64"
      ]
     },
     "execution_count": 31,
     "metadata": {},
     "output_type": "execute_result"
    }
   ],
   "source": [
    "results.iloc[results['MAE'].idxmin()]"
   ]
  },
  {
   "cell_type": "code",
   "execution_count": 36,
   "metadata": {},
   "outputs": [
    {
     "data": {
      "text/plain": [
       "43.962928637627435"
      ]
     },
     "execution_count": 36,
     "metadata": {},
     "output_type": "execute_result"
    }
   ],
   "source": [
    "y.mean()"
   ]
  },
  {
   "cell_type": "code",
   "execution_count": 33,
   "metadata": {},
   "outputs": [
    {
     "data": {
      "text/plain": [
       "ROUND\n",
       "64    512\n",
       "32    256\n",
       "16    128\n",
       "8      64\n",
       "68     55\n",
       "4      32\n",
       "1      16\n",
       "2      16\n",
       "Name: count, dtype: int64"
      ]
     },
     "execution_count": 33,
     "metadata": {},
     "output_type": "execute_result"
    }
   ],
   "source": [
    "y.value_counts()"
   ]
  },
  {
   "cell_type": "code",
   "execution_count": 35,
   "metadata": {},
   "outputs": [
    {
     "name": "stdout",
     "output_type": "stream",
     "text": [
      "baseline error rate 0.53\n"
     ]
    }
   ],
   "source": [
    "err = 1 - y.value_counts().max()/df.shape[0]  # 0 # FIXME\n",
    "print('baseline error rate',round(err,2))"
   ]
  }
 ],
 "metadata": {
  "kernelspec": {
   "display_name": "Python 3",
   "language": "python",
   "name": "python3"
  },
  "language_info": {
   "codemirror_mode": {
    "name": "ipython",
    "version": 3
   },
   "file_extension": ".py",
   "mimetype": "text/x-python",
   "name": "python",
   "nbconvert_exporter": "python",
   "pygments_lexer": "ipython3",
   "version": "3.10.12"
  }
 },
 "nbformat": 4,
 "nbformat_minor": 2
}
